{
 "cells": [
  {
   "cell_type": "code",
   "execution_count": null,
   "metadata": {
    "collapsed": true
   },
   "outputs": [],
   "source": [
    "from collections import defaultdict\n",
    "import numpy as np\n",
    "import matplotlib.pyplot as plt\n",
    "from pyodesys.symbolic import ScaledSys\n",
    "from chempy import ReactionSystem\n",
    "from chempy.kinetics.ode import get_odesys\n",
    "from chempy.kinetics.analysis import plot_reaction_contributions\n",
    "from chempy.kinetics._native import get_native\n",
    "%matplotlib inline"
   ]
  },
  {
   "cell_type": "code",
   "execution_count": null,
   "metadata": {
    "collapsed": false
   },
   "outputs": [],
   "source": [
    "import os\n",
    "os.environ['OMP_NUM_THREADS'] = '1'\n",
    "print(os.environ['OMP_NUM_THREADS'])"
   ]
  },
  {
   "cell_type": "code",
   "execution_count": null,
   "metadata": {
    "collapsed": false
   },
   "outputs": [],
   "source": [
    "# Rate constants choosen rather arbitrary for demonstration purposes\n",
    "system_str = \"\"\"\n",
    "  2 Fe+2 +  H2O2 -> 2 Fe+3     + 2 OH-        ; 42\n",
    "  2 Fe+3 +  H2O2 -> 2 Fe+2     +   O2  + 2 H+ ; 17\n",
    "      H+ +   OH- ->   H2O                     ; %(kprot_H2O)s\n",
    "             H2O ->   H+       +   OH-        ; %(kprot_H2O)s * %(Kw)s\n",
    "   Fe+3  + 2 H2O ->   FeOOH(s) + 3 H+         ; 1\n",
    "FeOOH(s) + 3  H+ ->   Fe+3     + 2 H2O        ; 2.5\n",
    "            H2O2 ->   H+       + HO2-         ; %(kprot_H2O2)s * %(Ka_H2O2)s\n",
    "      H+ +  HO2- ->   H2O2                    ; %(kprot_H2O2)s\n",
    "    H2O2 +   OH- ->   HO2-     + H2O          ; %(kdepr_H2O2)s\n",
    "    HO2- +   H2O ->   H2O2     + OH-          ; %(kdepr_H2O2)s / %(Ka_H2O2)s * %(Kw)s\n",
    "\"\"\" % dict(Kw='1e-14', kprot_H2O='1e10', Ka_H2O2='10**-11.65', kprot_H2O2='5e10', kdepr_H2O2='1.3e10')"
   ]
  },
  {
   "cell_type": "code",
   "execution_count": null,
   "metadata": {
    "collapsed": false
   },
   "outputs": [],
   "source": [
    "rsys = ReactionSystem.from_string(system_str)  # \"[H2O]\" = 1.0 (actually 55.4 at RT)\n",
    "odesys, extra = get_odesys(rsys, SymbolicSys=ScaledSys, dep_scaling=1e6)\n",
    "rsys"
   ]
  },
  {
   "cell_type": "code",
   "execution_count": null,
   "metadata": {
    "collapsed": false
   },
   "outputs": [],
   "source": [
    "tout = sorted(np.concatenate((np.linspace(0, 1003), np.logspace(-8, 3))))\n",
    "c0 = defaultdict(float, {'Fe+2': 0.05, 'H2O2': 0.1, 'H2O': 1.0, 'H+': 1e-7, 'OH-': 1e-7})\n",
    "res = odesys.integrate(tout, c0, atol=1e-12, rtol=1e-14, integrator='gsl')"
   ]
  },
  {
   "cell_type": "code",
   "execution_count": null,
   "metadata": {
    "collapsed": false
   },
   "outputs": [],
   "source": [
    "def plot_result(result):\n",
    "    fig, axes = plt.subplots(1, 4, figsize=(16, 6))\n",
    "    result.plot(names=[k for k in rsys.substances if k != 'H2O'], ax=axes[0])\n",
    "    axes[0].legend(loc='best', prop={'size': 10}); _ = axes[0].set_xlabel('Time'); _ = axes[0].set_ylabel('Concentration')\n",
    "    result.plot(names=[k for k in rsys.substances if k != 'H2O'], ax=axes[1], xscale='log', yscale='log')\n",
    "    axes[1].legend(loc='best', prop={'size': 10}); _ = axes[1].set_xlabel('Time'); _ = axes[1].set_ylabel('Concentration')\n",
    "    result.plot(deriv=True, names=[k for k in rsys.substances if k != 'H2O'], ax=axes[2], xscale='log'); \n",
    "    axes[2].set_yscale('symlog', linthreshy=1e-9)\n",
    "    axes[2].legend(loc='best', prop={'size': 10}); _ = axes[2].set_xlabel('Time'); _ = axes[2].set_ylabel('dC/dt')\n",
    "    result.plot_invariant_violations(ax=axes[3], xscale='log')\n",
    "    axes[3].legend(loc='best', prop={'size': 10}); _ = axes[3].set_xlabel('Time'); _ = axes[3].set_ylabel('Component')\n",
    "    plt.tight_layout()"
   ]
  },
  {
   "cell_type": "code",
   "execution_count": null,
   "metadata": {
    "collapsed": false
   },
   "outputs": [],
   "source": [
    "plot_result(res)"
   ]
  },
  {
   "cell_type": "code",
   "execution_count": null,
   "metadata": {
    "collapsed": false,
    "scrolled": true
   },
   "outputs": [],
   "source": [
    "substance_keys = 'Fe+2 Fe+3 FeOOH(s) H2O2'.split()\n",
    "selection = res.xout > 10\n",
    "fig, axes = plt.subplots(len(substance_keys), 2, figsize=(16, 4*len(substance_keys)))\n",
    "plot_reaction_contributions(res.xout, res.yout, extra['rate_exprs_cb'], rsys, substance_keys, axes=axes[:, 0])\n",
    "plot_reaction_contributions(res.xout[selection], res.yout[selection, :], extra['rate_exprs_cb'], rsys,\n",
    "                            substance_keys, axes=axes[:, 1], relative=True, xscale='linear', yscale='linear',\n",
    "                            combine_equilibria=True)\n",
    "plt.tight_layout()"
   ]
  },
  {
   "cell_type": "code",
   "execution_count": null,
   "metadata": {
    "collapsed": false
   },
   "outputs": [],
   "source": [
    "nativesys = get_native(rsys, odesys, 'cvode')"
   ]
  },
  {
   "cell_type": "code",
   "execution_count": null,
   "metadata": {
    "collapsed": false
   },
   "outputs": [],
   "source": [
    "nativeres = nativesys.integrate(tout[-1], c0, atol=1e-10, rtol=1e-10, nsteps=25000,\n",
    "                                return_on_root=True, first_step=1e-40) #error_outside_bounds=True)\n",
    "plot_result(nativeres)"
   ]
  },
  {
   "cell_type": "code",
   "execution_count": null,
   "metadata": {
    "collapsed": true
   },
   "outputs": [],
   "source": [
    "from _ipynb_progressbar import log_progress\n",
    "def plot_tss_conv(factor, tols, ax, idx):\n",
    "    native = get_native(rsys, odesys, 'cvode', ss_factor=factor)\n",
    "    success = []\n",
    "    failure = []\n",
    "    c = 'krbgcmy'\n",
    "    for tol in log_progress(tols):\n",
    "        res = native.integrate(\n",
    "            1e11, c0, atol=tol, rtol=tol, nsteps=25000,\n",
    "            return_on_root=True, dx_min=1e-17, return_on_error=True, first_step=1e-40)\n",
    "        if res.info['success']:\n",
    "            success.append((tol, res.xout[-1]))\n",
    "        else:\n",
    "            failure.append((tol, res.xout[-1]))\n",
    "    if success:\n",
    "        ax.loglog(*zip(*success), marker='.', color=c[idx % len(c)], label=factor)\n",
    "    if failure:\n",
    "        ax.loglog(*zip(*failure), marker='x', color=c[idx % len(c)], label=None if success else factor)"
   ]
  },
  {
   "cell_type": "code",
   "execution_count": null,
   "metadata": {
    "collapsed": false
   },
   "outputs": [],
   "source": [
    "fig, ax = plt.subplots(figsize=(14, 6))\n",
    "tols = np.logspace(-10, -6, 50)\n",
    "for idx, factor in enumerate([1e4, 1.1e4, 1e5, 1e6, 1e7, 1e8, 1e9]):\n",
    "    plot_tss_conv(factor, tols, ax, idx)\n",
    "ax.legend()"
   ]
  },
  {
   "cell_type": "code",
   "execution_count": null,
   "metadata": {
    "collapsed": true
   },
   "outputs": [],
   "source": []
  },
  {
   "cell_type": "code",
   "execution_count": null,
   "metadata": {
    "collapsed": true
   },
   "outputs": [],
   "source": []
  }
 ],
 "metadata": {
  "kernelspec": {
   "display_name": "Python 3",
   "language": "python",
   "name": "python3"
  },
  "language_info": {
   "codemirror_mode": {
    "name": "ipython",
    "version": 3
   },
   "file_extension": ".py",
   "mimetype": "text/x-python",
   "name": "python",
   "nbconvert_exporter": "python",
   "pygments_lexer": "ipython3",
   "version": "3.5.2"
  },
  "widgets": {
   "state": {
    "00d985476b7f47988bbde727be1f5b52": {
     "views": [
      {
       "cell_index": 11
      }
     ]
    },
    "062da96fd6384254b6a7df7e60735368": {
     "views": [
      {
       "cell_index": 11
      }
     ]
    },
    "12dec78491ed4ef9b70b356a1af77a29": {
     "views": [
      {
       "cell_index": 11
      }
     ]
    },
    "1649257123604025965761428e9ca77d": {
     "views": [
      {
       "cell_index": 11
      }
     ]
    },
    "1d356998cd9544a887ab4b64c30489a9": {
     "views": [
      {
       "cell_index": 11
      }
     ]
    },
    "25256fa620e14fc4901ec42271315501": {
     "views": [
      {
       "cell_index": 11
      }
     ]
    },
    "25650c585caf4ce0bc5e5ef678ad6176": {
     "views": [
      {
       "cell_index": 11
      }
     ]
    },
    "263e0959870742da924969880b8727c7": {
     "views": [
      {
       "cell_index": 11
      }
     ]
    },
    "26bc10929f1b40419c92b3b902b49bf3": {
     "views": [
      {
       "cell_index": 11
      }
     ]
    },
    "3338ab533a6b43aebf1a3f4c6b7e1308": {
     "views": [
      {
       "cell_index": 11
      }
     ]
    },
    "3f147b31a7644fa0b8600c4f37dbd595": {
     "views": [
      {
       "cell_index": 11
      }
     ]
    },
    "40599dfbed234b58addf65f4aa539f2d": {
     "views": [
      {
       "cell_index": 11
      }
     ]
    },
    "48d470306a744234b173024009ff508b": {
     "views": [
      {
       "cell_index": 11
      }
     ]
    },
    "5002d84cd1ee4bee856682f541253a4d": {
     "views": [
      {
       "cell_index": 11
      }
     ]
    },
    "93b8977cd91b4d63ac36d9e1206462fd": {
     "views": [
      {
       "cell_index": 11
      }
     ]
    },
    "9ba7f065239c45bebc25910e5cf13c12": {
     "views": [
      {
       "cell_index": 11
      }
     ]
    },
    "a5cf89b4fd5b49059c20f6079c5ee620": {
     "views": [
      {
       "cell_index": 11
      }
     ]
    },
    "a9faf1117d2e454c9fb6cd4b5d8c9af4": {
     "views": [
      {
       "cell_index": 11
      }
     ]
    },
    "c4c57647194f487aabd64f8afdbfe4f6": {
     "views": [
      {
       "cell_index": 11
      }
     ]
    },
    "d775f130b7784340a97749b85d3701e9": {
     "views": [
      {
       "cell_index": 11
      }
     ]
    },
    "ddd2b9f4805c452c9c4a2d034a032aab": {
     "views": [
      {
       "cell_index": 11
      }
     ]
    },
    "ee4dfced4fbd43efb8adad4add0b33ac": {
     "views": [
      {
       "cell_index": 11
      }
     ]
    },
    "f4f7b8140ed04c33959e5dfc38aab600": {
     "views": [
      {
       "cell_index": 11
      }
     ]
    },
    "fba0144bbef54db7a21bb113d8e36d3c": {
     "views": [
      {
       "cell_index": 11
      }
     ]
    }
   },
   "version": "1.2.0"
  }
 },
 "nbformat": 4,
 "nbformat_minor": 1
}
