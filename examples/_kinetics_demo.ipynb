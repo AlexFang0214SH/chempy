{
 "cells": [
  {
   "cell_type": "code",
   "execution_count": null,
   "metadata": {
    "collapsed": true
   },
   "outputs": [],
   "source": [
    "from collections import defaultdict\n",
    "import numpy as np\n",
    "import matplotlib.pyplot as plt\n",
    "from chempy import ReactionSystem\n",
    "from chempy.kinetics.ode import get_odesys\n",
    "%matplotlib inline"
   ]
  },
  {
   "cell_type": "code",
   "execution_count": null,
   "metadata": {
    "collapsed": true
   },
   "outputs": [],
   "source": [
    "system_str = \"\"\"\n",
    "  2 Fe+2 + H2O2 -> 2 Fe+3     + 2 OH-        ; 42\n",
    "  2 Fe+3 + H2O2 -> 2 Fe+2     +   O2  + 2 H+ ; 17\n",
    "       H+ + OH- ->   H2O                     ; 1e10\n",
    "            H2O ->   H+       +   OH-        ; 1e-4\n",
    "   Fe+3 + 2 H2O ->   FeOOH(s) + 3 H+         ; 1\n",
    "FeOOH(s) + 3 H+ ->   Fe+3     + 2 H2O        ; 2.5\n",
    "\"\"\""
   ]
  },
  {
   "cell_type": "code",
   "execution_count": null,
   "metadata": {
    "collapsed": false
   },
   "outputs": [],
   "source": [
    "rsys = ReactionSystem.from_string(system_str)  # \"[H2O]\" = 1.0 (actually 55.4 at RT)\n",
    "odesys, extra = get_odesys(rsys)\n",
    "rsys"
   ]
  },
  {
   "cell_type": "code",
   "execution_count": null,
   "metadata": {
    "collapsed": true
   },
   "outputs": [],
   "source": [
    "tout = sorted(np.concatenate((np.linspace(0, 23), np.logspace(-8, 1))))\n",
    "c0 = defaultdict(float, {'Fe+2': 0.05, 'H2O2': 0.1, 'H2O': 1.0, 'H+': 1e-7, 'OH-': 1e-7})\n",
    "result = odesys.integrate(tout, c0, atol=1e-12, rtol=1e-14)"
   ]
  },
  {
   "cell_type": "code",
   "execution_count": null,
   "metadata": {
    "collapsed": false
   },
   "outputs": [],
   "source": [
    "fig, axes = plt.subplots(1, 4, figsize=(16, 6))\n",
    "result.plot(names=[k for k in rsys.substances if k != 'H2O'], ax=axes[0])\n",
    "axes[0].legend(loc='best', prop={'size': 10}); _ = axes[0].set_xlabel('Time'); _ = axes[0].set_ylabel('Concentration')\n",
    "result.plot(names=[k for k in rsys.substances if k != 'H2O'], ax=axes[1], xscale='log', yscale='log')\n",
    "axes[1].legend(loc='best', prop={'size': 10}); _ = axes[1].set_xlabel('Time'); _ = axes[1].set_ylabel('Concentration')\n",
    "result.plot(deriv=True, names=[k for k in rsys.substances if k != 'H2O'], ax=axes[2])\n",
    "axes[2].legend(loc='best', prop={'size': 10}); _ = axes[2].set_xlabel('Time'); _ = axes[2].set_ylabel('dC/dt')\n",
    "result.plot_invariant_violations(ax=axes[3])\n",
    "axes[3].legend(loc='best', prop={'size': 10}); _ = axes[3].set_xlabel('Time'); _ = axes[3].set_ylabel('Component')\n",
    "plt.tight_layout()"
   ]
  }
 ],
 "metadata": {
  "kernelspec": {
   "display_name": "Python 3",
   "language": "python",
   "name": "python3"
  },
  "language_info": {
   "codemirror_mode": {
    "name": "ipython",
    "version": 3
   },
   "file_extension": ".py",
   "mimetype": "text/x-python",
   "name": "python",
   "nbconvert_exporter": "python",
   "pygments_lexer": "ipython3",
   "version": "3.5.2"
  }
 },
 "nbformat": 4,
 "nbformat_minor": 1
}
