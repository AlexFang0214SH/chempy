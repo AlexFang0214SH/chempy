{
 "cells": [
  {
   "cell_type": "code",
   "execution_count": null,
   "metadata": {
    "collapsed": true
   },
   "outputs": [],
   "source": [
    "import sympy as sp\n",
    "import matplotlib.pyplot as plt\n",
    "from pyodesys.symbolic import PartiallySolvedSystem, ScaledSys, symmetricsys, get_logexp\n",
    "from chempy import ReactionSystem, Substance\n",
    "from chempy.kinetics.ode import get_odesys\n",
    "%matplotlib inline"
   ]
  },
  {
   "cell_type": "code",
   "execution_count": null,
   "metadata": {
    "collapsed": false
   },
   "outputs": [],
   "source": [
    "rsys = ReactionSystem.from_string(\"\"\"\n",
    "A -> B; 0.04\n",
    "B + C -> A + C; 1e4\n",
    "2 B -> B + C; 3e7\n",
    "\"\"\", substance_factory=lambda formula: Substance(formula, composition={1: 1}))"
   ]
  },
  {
   "cell_type": "code",
   "execution_count": null,
   "metadata": {
    "collapsed": false
   },
   "outputs": [],
   "source": [
    "rsys.composition_balance_vectors()"
   ]
  },
  {
   "cell_type": "code",
   "execution_count": null,
   "metadata": {
    "collapsed": true
   },
   "outputs": [],
   "source": [
    "orisys, extra = get_odesys(rsys, SymbolicSys=ScaledSys, dep_scaling=1e6, description='original')"
   ]
  },
  {
   "cell_type": "code",
   "execution_count": null,
   "metadata": {
    "collapsed": false
   },
   "outputs": [],
   "source": [
    "orisys.linear_invariants, orisys.names, orisys.latex_names"
   ]
  },
  {
   "cell_type": "code",
   "execution_count": null,
   "metadata": {
    "collapsed": false
   },
   "outputs": [],
   "source": [
    "psysA = PartiallySolvedSystem.from_linear_invariants(orisys, ['A'], description='A')\n",
    "psysB = PartiallySolvedSystem.from_linear_invariants(orisys, ['B'], description='B')\n",
    "psysC = PartiallySolvedSystem.from_linear_invariants(orisys, ['C'], description='C')"
   ]
  },
  {
   "cell_type": "code",
   "execution_count": null,
   "metadata": {
    "collapsed": false
   },
   "outputs": [],
   "source": [
    "psysA.dep, psysB.dep, psysC.dep"
   ]
  },
  {
   "cell_type": "code",
   "execution_count": null,
   "metadata": {
    "collapsed": false
   },
   "outputs": [],
   "source": [
    "linsystems = [orisys, psysA, psysB, psysC]\n",
    "\n",
    "def integrate_systems(systems, **kwargs):\n",
    "    return [odesys.integrate(1e14, {'A': 1, 'B': 0, 'C': 0}, integrator='cvode',\n",
    "                             record_rhs_tvals=True, record_jac_tvals=True, record_order=True,\n",
    "                             atol=1e-6, rtol=1e-6, **kwargs) for odesys in systems]"
   ]
  },
  {
   "cell_type": "code",
   "execution_count": null,
   "metadata": {
    "collapsed": true
   },
   "outputs": [],
   "source": [
    "linresults = integrate_systems(linsystems, nsteps=5000)"
   ]
  },
  {
   "cell_type": "code",
   "execution_count": null,
   "metadata": {
    "collapsed": false
   },
   "outputs": [],
   "source": [
    "def plot_result(odesys, res, ax=None, trnsfm=lambda x: x):\n",
    "    plot_keys = ['steps', 'rhs_tvals', 'jac_tvals']\n",
    "    bgcolor = ['orange', 'darkblue', 'darkgreen']\n",
    "    for idx, key in enumerate(plot_keys):\n",
    "        for x in res.xout if key == 'steps' else trnsfm(res.info[key]):\n",
    "            ax.axvline(x, idx/len(plot_keys), (idx+1)/len(plot_keys), c=bgcolor[idx], alpha=0.1)\n",
    "    _ = res.plot(xscale='log', yscale='log', ax=ax)\n",
    "    ax.legend(loc='best')\n",
    "    ax.set_title(odesys.description +\n",
    "                 (' (%d steps, %d rhs evals.)' % (res.info['n_steps'], res.info['nfev'])) +\n",
    "                '' if res.info['success'] else ' - failed!')"
   ]
  },
  {
   "cell_type": "code",
   "execution_count": null,
   "metadata": {
    "collapsed": false
   },
   "outputs": [],
   "source": [
    "def plot_results(systems, results):\n",
    "    fig, axes = plt.subplots(2, 2, figsize=(14, 14))\n",
    "    for idx, (odesys, res) in enumerate(zip(systems, results)):\n",
    "        plot_result(odesys, res, ax=axes.flat[idx])"
   ]
  },
  {
   "cell_type": "code",
   "execution_count": null,
   "metadata": {
    "collapsed": false
   },
   "outputs": [],
   "source": [
    "plot_results(linsystems, linresults)"
   ]
  },
  {
   "cell_type": "code",
   "execution_count": null,
   "metadata": {
    "collapsed": true
   },
   "outputs": [],
   "source": [
    "LogLogSys = symmetricsys(get_logexp(1, 1e-20), get_logexp(1, 1e-12), exprs_process_cb=lambda exprs: [\n",
    "                         sp.powsimp(expr.expand(), force=True) for expr in exprs])\n",
    "logsystems = [LogLogSys.from_other(ls) for ls in linsystems]"
   ]
  },
  {
   "cell_type": "code",
   "execution_count": null,
   "metadata": {
    "collapsed": false
   },
   "outputs": [],
   "source": [
    "logresults = integrate_systems(logsystems, nsteps=15000, return_on_error=True)"
   ]
  },
  {
   "cell_type": "code",
   "execution_count": null,
   "metadata": {
    "collapsed": false
   },
   "outputs": [],
   "source": [
    "plot_results(logsystems, logresults)"
   ]
  },
  {
   "cell_type": "code",
   "execution_count": null,
   "metadata": {
    "collapsed": true
   },
   "outputs": [],
   "source": []
  }
 ],
 "metadata": {
  "kernelspec": {
   "display_name": "Python 3",
   "language": "python",
   "name": "python3"
  },
  "language_info": {
   "codemirror_mode": {
    "name": "ipython",
    "version": 3
   },
   "file_extension": ".py",
   "mimetype": "text/x-python",
   "name": "python",
   "nbconvert_exporter": "python",
   "pygments_lexer": "ipython3",
   "version": "3.5.2"
  }
 },
 "nbformat": 4,
 "nbformat_minor": 1
}
