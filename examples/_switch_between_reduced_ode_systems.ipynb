{
 "cells": [
  {
   "cell_type": "code",
   "execution_count": null,
   "metadata": {
    "collapsed": false
   },
   "outputs": [],
   "source": [
    "import numpy as np\n",
    "import sympy as sp\n",
    "import matplotlib.pyplot as plt\n",
    "from pyodesys.symbolic import PartiallySolvedSystem, ScaledSys, symmetricsys, get_logexp\n",
    "from pycvodes import fpes\n",
    "from chempy import ReactionSystem, Substance\n",
    "from chempy.kinetics.ode import get_odesys\n",
    "sp.init_printing()\n",
    "%matplotlib inline"
   ]
  },
  {
   "cell_type": "code",
   "execution_count": null,
   "metadata": {
    "collapsed": false
   },
   "outputs": [],
   "source": [
    "rsys = ReactionSystem.from_string(\n",
    "    \"\"\"\n",
    "    A -> B; 0.04\n",
    "    B + C -> A + C; 1e4\n",
    "    2 B -> B + C; 3e7\n",
    "    \"\"\",\n",
    "    substance_factory=lambda formula: Substance(formula, composition={1: 1}),\n",
    "    substance_keys='ABC')"
   ]
  },
  {
   "cell_type": "code",
   "execution_count": null,
   "metadata": {
    "collapsed": false
   },
   "outputs": [],
   "source": [
    "rsys.composition_balance_vectors()"
   ]
  },
  {
   "cell_type": "code",
   "execution_count": null,
   "metadata": {
    "collapsed": false
   },
   "outputs": [],
   "source": [
    "dep_scaling = 1e9\n",
    "orisys, extra = get_odesys(rsys, description='original')\n",
    "scaledsys = ScaledSys.from_other(orisys, dep_scaling=dep_scaling, description='scaled')"
   ]
  },
  {
   "cell_type": "code",
   "execution_count": null,
   "metadata": {
    "collapsed": false
   },
   "outputs": [],
   "source": [
    "orisys.linear_invariants, orisys.names, orisys.latex_names"
   ]
  },
  {
   "cell_type": "code",
   "execution_count": null,
   "metadata": {
    "collapsed": false
   },
   "outputs": [],
   "source": [
    "def integrate_systems(systems, **kwargs):\n",
    "    return [odesys.integrate(\n",
    "        1e14, {'A': 1, 'B': 0, 'C': 0}, integrator='cvode',\n",
    "        record_rhs_xvals=True, record_jac_xvals=True, record_order=True, record_fpe=True,\n",
    "        atol=1e-6, rtol=1e-6, return_on_error=True, **kwargs) for odesys in systems]\n",
    "\n",
    "def plot_result(odesys, res, ax=None, post_proc=None, colors=('k', 'r', 'g'), xlim=None):\n",
    "    if ax is None:\n",
    "        ax = plt.subplot(1, 1, 1)\n",
    "    vk = 'steps rhs_xvals jac_xvals'.split()  # 'fe_underflow fe_overflow fe_invalid fe_divbyzero'\n",
    "    res.plot(xscale='log', yscale='log', ax=ax, c=colors,\n",
    "             info_vlines_kw=dict(vline_keys=vk, post_proc=post_proc))\n",
    "    lines = ax.get_lines()\n",
    "    for idx, val in enumerate([1 - 0.04*1e-7, 0.04*1e-7]):\n",
    "        ax.plot(1e-7, val, marker='o', c=colors[idx])\n",
    "    for idx, val in enumerate([0.2083340149701255e-7, 0.8333360770334713e-13, 0.9999999791665050]):\n",
    "        ax.plot(1e11, val, marker='o', c=colors[idx])\n",
    "    ax.legend(loc='best')\n",
    "    ax.set_title(odesys.description + (\n",
    "            ' (%d steps, %d rhs evals., %.5g s CPUt)' % (\n",
    "                res.info['n_steps'], res.info['nfev'], res.info['time_cpu'])) +\n",
    "                    ('' if res.info['success'] else ' - failed!'))\n",
    "    if xlim is not None:\n",
    "        ax.set_xlim(xlim)\n",
    "    \n",
    "def plot_results(systems, results, axes=None, **kwargs):\n",
    "    if axes is None:\n",
    "        _fig, axes = plt.subplots(2, 2, figsize=(14, 14))\n",
    "    for idx, (odesys, res) in enumerate(zip(systems, results)):\n",
    "        plot_result(odesys, res, ax=axes.flat[idx], **kwargs)"
   ]
  },
  {
   "cell_type": "code",
   "execution_count": null,
   "metadata": {
    "collapsed": false
   },
   "outputs": [],
   "source": [
    "plot_results([orisys, scaledsys], integrate_systems([orisys, scaledsys], nsteps=5000, first_step=1e-23),\n",
    "             axes=plt.subplots(1, 2, figsize=(14, 7))[1], xlim=(1e-23, 1e14))"
   ]
  },
  {
   "cell_type": "code",
   "execution_count": null,
   "metadata": {
    "collapsed": false
   },
   "outputs": [],
   "source": [
    "psys = [PartiallySolvedSystem.from_linear_invariants(scaledsys, [k], description=k) for k in 'ABC']\n",
    "linsystems = [scaledsys] + psys\n",
    "[cs.dep for cs in psys]"
   ]
  },
  {
   "cell_type": "code",
   "execution_count": null,
   "metadata": {
    "collapsed": false
   },
   "outputs": [],
   "source": [
    "linresults = integrate_systems(linsystems, nsteps=5000)"
   ]
  },
  {
   "cell_type": "code",
   "execution_count": null,
   "metadata": {
    "collapsed": false
   },
   "outputs": [],
   "source": []
  },
  {
   "cell_type": "code",
   "execution_count": null,
   "metadata": {
    "collapsed": false
   },
   "outputs": [],
   "source": [
    "plot_results(linsystems, linresults, xlim=(1e-9, 1e14))"
   ]
  },
  {
   "cell_type": "code",
   "execution_count": null,
   "metadata": {
    "collapsed": true
   },
   "outputs": [],
   "source": [
    "indep0 = 1e-26\n",
    "LogLogSys = symmetricsys(get_logexp(1, 1e-20, b2=0), get_logexp(1, indep0, b2=0), exprs_process_cb=lambda exprs: [\n",
    "                         sp.powsimp(expr.expand(), force=True) for expr in exprs])\n",
    "logsystems = [LogLogSys.from_other(ls) for ls in linsystems]"
   ]
  },
  {
   "cell_type": "code",
   "execution_count": null,
   "metadata": {
    "collapsed": false
   },
   "outputs": [],
   "source": [
    "logresults = integrate_systems(logsystems, nsteps=15000)"
   ]
  },
  {
   "cell_type": "code",
   "execution_count": null,
   "metadata": {
    "collapsed": false
   },
   "outputs": [],
   "source": [
    "lnds = np.log(indep0)\n",
    "plot_results(logsystems, logresults, post_proc=lambda x: np.abs(np.exp(x) - indep0), xlim=[indep0*10, 1e14])"
   ]
  },
  {
   "cell_type": "code",
   "execution_count": null,
   "metadata": {
    "collapsed": false
   },
   "outputs": [],
   "source": [
    "logsystems[0].exprs"
   ]
  }
 ],
 "metadata": {
  "kernelspec": {
   "display_name": "Python 3",
   "language": "python",
   "name": "python3"
  },
  "language_info": {
   "codemirror_mode": {
    "name": "ipython",
    "version": 3
   },
   "file_extension": ".py",
   "mimetype": "text/x-python",
   "name": "python",
   "nbconvert_exporter": "python",
   "pygments_lexer": "ipython3",
   "version": "3.5.2"
  }
 },
 "nbformat": 4,
 "nbformat_minor": 1
}
