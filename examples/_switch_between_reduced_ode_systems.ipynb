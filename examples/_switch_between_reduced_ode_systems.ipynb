{
 "cells": [
  {
   "cell_type": "code",
   "execution_count": null,
   "metadata": {
    "collapsed": false
   },
   "outputs": [],
   "source": [
    "import numpy as np\n",
    "import sympy as sp\n",
    "import matplotlib.pyplot as plt\n",
    "from pyodesys.symbolic import PartiallySolvedSystem, ScaledSys, symmetricsys, get_logexp\n",
    "from pycvodes import fpes\n",
    "from chempy import ReactionSystem, Substance\n",
    "from chempy.kinetics.ode import get_odesys\n",
    "sp.init_printing()\n",
    "%matplotlib inline"
   ]
  },
  {
   "cell_type": "code",
   "execution_count": null,
   "metadata": {
    "collapsed": false
   },
   "outputs": [],
   "source": [
    "rsys = ReactionSystem.from_string(\"\"\"\n",
    "A -> B; 0.04\n",
    "B + C -> A + C; 1e4\n",
    "2 B -> B + C; 3e7\n",
    "\"\"\", substance_factory=lambda formula: Substance(formula, composition={1: 1}))"
   ]
  },
  {
   "cell_type": "code",
   "execution_count": null,
   "metadata": {
    "collapsed": false
   },
   "outputs": [],
   "source": [
    "rsys.composition_balance_vectors()"
   ]
  },
  {
   "cell_type": "code",
   "execution_count": null,
   "metadata": {
    "collapsed": true
   },
   "outputs": [],
   "source": [
    "dep_scaling = 1e6\n",
    "orisys, extra = get_odesys(rsys, description='original')\n",
    "scaledsys = ScaledSys.from_other(orisys, dep_scaling=dep_scaling, description='scaled')"
   ]
  },
  {
   "cell_type": "code",
   "execution_count": null,
   "metadata": {
    "collapsed": false
   },
   "outputs": [],
   "source": [
    "orisys.linear_invariants, orisys.names, orisys.latex_names"
   ]
  },
  {
   "cell_type": "code",
   "execution_count": null,
   "metadata": {
    "collapsed": false
   },
   "outputs": [],
   "source": [
    "psysA = PartiallySolvedSystem.from_linear_invariants(orisys, ['A'], description='A')\n",
    "psysB = PartiallySolvedSystem.from_linear_invariants(orisys, ['B'], description='B')\n",
    "psysC = PartiallySolvedSystem.from_linear_invariants(orisys, ['C'], description='C')"
   ]
  },
  {
   "cell_type": "code",
   "execution_count": null,
   "metadata": {
    "collapsed": false
   },
   "outputs": [],
   "source": [
    "psysA.dep, psysB.dep, psysC.dep"
   ]
  },
  {
   "cell_type": "code",
   "execution_count": null,
   "metadata": {
    "collapsed": false
   },
   "outputs": [],
   "source": [
    "linsystems = [orisys, psysA, psysB, psysC]\n",
    "\n",
    "def integrate_systems(systems, **kwargs):\n",
    "    return [odesys.integrate(\n",
    "        1e14, {'A': 1, 'B': 0, 'C': 0}, integrator='cvode',\n",
    "        record_rhs_xvals=True, record_jac_xvals=True, record_order=True, record_fpe=True,\n",
    "        atol=1e-6, rtol=1e-6, **kwargs) for odesys in systems]"
   ]
  },
  {
   "cell_type": "code",
   "execution_count": null,
   "metadata": {
    "collapsed": false
   },
   "outputs": [],
   "source": [
    "linresults = integrate_systems(linsystems, nsteps=5000)"
   ]
  },
  {
   "cell_type": "code",
   "execution_count": null,
   "metadata": {
    "collapsed": false
   },
   "outputs": [],
   "source": [
    "def plot_result(odesys, res, ax=None, post_proc=None):\n",
    "    vk = 'steps rhs_xvals jac_xvals'.split()  # 'fe_underflow fe_overflow fe_invalid fe_divbyzero'\n",
    "    _ = res.plot(xscale='log', yscale='log', ax=ax, info_vlines_kw=dict(vline_keys=vk, post_proc=post_proc))\n",
    "    ax.legend(loc='best')\n",
    "    ax.set_title(odesys.description + (\n",
    "            ' (%d steps, %d rhs evals., %.5g s CPUt)' % (\n",
    "                res.info['n_steps'], res.info['nfev'], res.info['time_cpu'])) +\n",
    "                    '' if res.info['success'] else ' - failed!')"
   ]
  },
  {
   "cell_type": "code",
   "execution_count": null,
   "metadata": {
    "collapsed": false
   },
   "outputs": [],
   "source": [
    "def plot_results(systems, results, **kwargs):\n",
    "    fig, axes = plt.subplots(2, 2, figsize=(14, 14))\n",
    "    for idx, (odesys, res) in enumerate(zip(systems, results)):\n",
    "        plot_result(odesys, res, ax=axes.flat[idx], **kwargs)"
   ]
  },
  {
   "cell_type": "code",
   "execution_count": null,
   "metadata": {
    "collapsed": false
   },
   "outputs": [],
   "source": [
    "plot_results(linsystems, linresults)"
   ]
  },
  {
   "cell_type": "code",
   "execution_count": null,
   "metadata": {
    "collapsed": true
   },
   "outputs": [],
   "source": [
    "LogLogSys = symmetricsys(get_logexp(1, 1e-20, b2=0), get_logexp(1, 1e-12, b2=0), exprs_process_cb=lambda exprs: [\n",
    "                         sp.powsimp(expr.expand(), force=True) for expr in exprs])\n",
    "logsystems = [LogLogSys.from_other(ls) for ls in linsystems]"
   ]
  },
  {
   "cell_type": "code",
   "execution_count": null,
   "metadata": {
    "collapsed": false
   },
   "outputs": [],
   "source": [
    "logresults = integrate_systems(logsystems, nsteps=15000, return_on_error=True)"
   ]
  },
  {
   "cell_type": "code",
   "execution_count": null,
   "metadata": {
    "collapsed": false
   },
   "outputs": [],
   "source": [
    "lnds = np.log(dep_scaling)\n",
    "plot_results(logsystems, logresults, post_proc=lambda x: np.exp(x - lnds))"
   ]
  },
  {
   "cell_type": "code",
   "execution_count": null,
   "metadata": {
    "collapsed": false
   },
   "outputs": [],
   "source": [
    "logsystems[0].exprs"
   ]
  }
 ],
 "metadata": {
  "kernelspec": {
   "display_name": "Python 3",
   "language": "python",
   "name": "python3"
  },
  "language_info": {
   "codemirror_mode": {
    "name": "ipython",
    "version": 3
   },
   "file_extension": ".py",
   "mimetype": "text/x-python",
   "name": "python",
   "nbconvert_exporter": "python",
   "pygments_lexer": "ipython3",
   "version": "3.5.2"
  }
 },
 "nbformat": 4,
 "nbformat_minor": 1
}
