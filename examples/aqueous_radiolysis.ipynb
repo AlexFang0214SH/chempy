{
 "cells": [
  {
   "cell_type": "code",
   "execution_count": null,
   "metadata": {
    "collapsed": false
   },
   "outputs": [],
   "source": [
    "from __future__ import absolute_import, division, print_function\n",
    "import numpy as np\n",
    "import sympy\n",
    "import matplotlib.pyplot as plt\n",
    "from chempy.chemistry import Reaction, Substance, ReactionSystem\n",
    "from chempy.kinetics.ode import get_odesys\n",
    "from chempy.util.plotting import mpl_outside_legend\n",
    "sympy.init_printing()\n",
    "%matplotlib inline"
   ]
  },
  {
   "cell_type": "code",
   "execution_count": null,
   "metadata": {
    "collapsed": false
   },
   "outputs": [],
   "source": [
    "_species = [\"H\", \"H+\", \"H2\", \"e-aq\", \"HO2-\", \"HO2\", \"H2O2\", \"HO3\", \"O-\", \"O2\", \"O2-\", \"O3\", \"O3-\", \"OH\", \"OH-\", \"H2O\"]\n",
    "# Never mind the next row, it contains all the reaction data of aqueous radiolysis at room temperatur\n",
    "#_reactions = [({1: 1, 14: 1}, {15: 1}, 140000000000.0, {}), ({15: 1}, {1: 1, 14: 1}, 0.0014032273333090576, {15: 1}), ({6: 1}, {1: 1, 4: 1}, 0.11193605692841689, {}), ({1: 1, 4: 1}, {6: 1}, 50000000000.0, {}), ({6: 1, 14: 1}, {4: 1, 15: 1}, 13000000000.0, {}), ({4: 1, 15: 0}, {6: 1, 14: 1}, 58202729.542927094, {15: 1}), ({3: 1, 15: 0}, {0: 1, 14: 1}, 19.0, {15: 1}), ({0: 1, 14: 1}, {3: 1, 15: 1}, 18000000.0, {}), ({0: 1}, {1: 1, 3: 1}, 3.905960400662016, {}), ({1: 1, 3: 1}, {0: 1}, 23000000000.0, {}), ({13: 1, 14: 1}, {8: 1, 15: 1}, 13000000000.0, {}), ({8: 1, 15: 0}, {13: 1, 14: 1}, 103500715.55425139, {15: 1}), ({13: 1}, {8: 1, 1: 1}, 0.12589254117941662, {}), ({8: 1, 1: 1}, {13: 1}, 100000000000.0, {}), ({5: 1}, {1: 1, 10: 1}, 1345767.401963457, {}), ({1: 1, 10: 1}, {5: 1}, 50000000000.0, {}), ({5: 1, 14: 1}, {10: 1, 15: 1}, 50000000000.0, {}), ({10: 1, 15: 0}, {5: 1, 14: 1}, 18.619585312728415, {15: 1}), ({3: 1, 13: 1}, {14: 1}, 30000000000.0, {}), ({3: 1, 6: 1}, {13: 1, 14: 1}, 14000000000.0, {}), ({10: 1, 3: 1, 15: 0}, {4: 1, 14: 1}, 13000000000.0, {15: 1}), ({3: 1, 5: 1}, {4: 1}, 20000000000.0, {}), ({9: 1, 3: 1}, {10: 1}, 22200000000.0, {}), ({3: 2, 15: 0}, {2: 1, 14: 2}, 5000000000.0, {15: 2}), ({0: 1, 3: 1, 15: 0}, {2: 1, 14: 1}, 25000000000.0, {15: 1}), ({3: 1, 4: 1}, {8: 1, 14: 1}, 3500000000.0, {}), ({8: 1, 3: 1, 15: 0}, {14: 2}, 22000000000.0, {15: 1}), ({3: 1, 12: 1, 15: 0}, {9: 1, 14: 2}, 16000000000.0, {15: 1}), ({11: 1, 3: 1}, {12: 1}, 36000000000.0, {}), ({0: 1, 15: 0}, {2: 1, 13: 1}, 11.0, {15: 1}), ({0: 1, 8: 1}, {14: 1}, 10000000000.0, {}), ({0: 1, 4: 1}, {13: 1, 14: 1}, 90000000.0, {}), ({0: 1, 12: 1}, {9: 1, 14: 1}, 10000000000.0, {}), ({0: 2}, {2: 1}, 7750000000.0, {}), ({0: 1, 13: 1}, {15: 1}, 7000000000.0, {}), ({0: 1, 6: 1}, {13: 1, 15: 1}, 90000000.0, {}), ({0: 1, 9: 1}, {5: 1}, 21000000000.0, {}), ({0: 1, 5: 1}, {6: 1}, 10000000000.0, {}), ({0: 1, 10: 1}, {4: 1}, 20000000000.0, {}), ({0: 1, 11: 1}, {7: 1}, 38000000000.0, {}), ({13: 2}, {6: 1}, 3600000000.0, {}), ({5: 1, 13: 1}, {9: 1, 15: 1}, 6000000000.0, {}), ({10: 1, 13: 1}, {9: 1, 14: 1}, 8200000000.0, {}), ({2: 1, 13: 1}, {0: 1, 15: 1}, 40000000.0, {}), ({13: 1, 6: 1}, {5: 1, 15: 1}, 30000000.0, {}), ({8: 1, 13: 1}, {4: 1}, 20000000000.0, {}), ({4: 1, 13: 1}, {5: 1, 14: 1}, 7500000000.0, {}), ({12: 1, 13: 1}, {11: 1, 14: 1}, 2550000000.0, {}), ({12: 1, 13: 1}, {1: 1, 10: 2}, 5950000000.0, {}), ({11: 1, 13: 1}, {9: 1, 5: 1}, 110000000.0, {}), ({10: 1, 5: 1}, {9: 1, 4: 1}, 80000000.0, {}), ({5: 2}, {9: 1, 6: 1}, 800000.0, {}), ({8: 1, 5: 1}, {9: 1, 14: 1}, 6000000000.0, {}), ({5: 1, 6: 1}, {9: 1, 13: 1, 15: 1}, 0.5, {}), ({4: 1, 5: 1}, {9: 1, 13: 1, 14: 1}, 0.5, {}), ({12: 1, 5: 1}, {9: 2, 14: 1}, 6000000000.0, {}), ({11: 1, 5: 1}, {9: 1, 7: 1}, 500000000.0, {}), ({10: 2, 15: 0}, {9: 1, 6: 1, 14: 2}, 100.0, {15: 2}), ({8: 1, 10: 1, 15: 0}, {9: 1, 14: 2}, 600000000.0, {15: 1}), ({10: 1, 6: 1}, {9: 1, 13: 1, 14: 1}, 0.13, {}), ({10: 1, 4: 1}, {8: 1, 9: 1, 14: 1}, 0.13, {}), ({10: 1, 12: 1, 15: 0}, {9: 2, 14: 2}, 10000.0, {15: 1}), ({10: 1, 11: 1}, {9: 1, 12: 1}, 1500000000.0, {}), ({8: 2, 15: 0}, {4: 1, 14: 1}, 1000000000.0, {15: 1}), ({8: 1, 9: 1}, {12: 1}, 3600000000.0, {}), ({8: 1, 2: 1}, {0: 1, 14: 1}, 80000000.0, {}), ({8: 1, 6: 1}, {10: 1, 15: 1}, 500000000.0, {}), ({8: 1, 4: 1}, {10: 1, 14: 1}, 400000000.0, {}), ({8: 1, 12: 1}, {10: 2}, 700000000.0, {}), ({8: 1, 11: 1}, {9: 1, 10: 1}, 5000000000.0, {}), ({12: 1}, {8: 1, 9: 1}, 300.0, {}), ({1: 1, 12: 1}, {9: 1, 13: 1}, 90000000000.0, {}), ({12: 1, 6: 1}, {9: 1, 10: 1, 15: 1}, 1600000.0, {}), ({12: 1, 4: 1}, {9: 1, 10: 1, 14: 1}, 890000.0, {}), ({2: 1, 12: 1}, {0: 1, 9: 1, 14: 1}, 250000.0, {}), ({7: 1}, {9: 1, 13: 1}, 110000.0, {}), ({13: 1, 7: 1}, {9: 1, 6: 1}, 5000000000.0, {}), ({7: 2}, {9: 2, 6: 1}, 5000000000.0, {}), ({10: 1, 7: 1}, {9: 2, 14: 1}, 10000000000.0, {}), ({7: 1}, {1: 1, 12: 1}, 328.097819129701, {}), ({1: 1, 12: 1}, {7: 1}, 52000000000.0, {}), ({11: 1, 14: 1}, {10: 1, 5: 1}, 70.0, {}), ({11: 1, 4: 1}, {9: 1, 10: 1, 13: 1}, 2800000.0, {})]\n",
    "_reactions = [({3: 2}, {2: 1, 12: 2}, 7259834472.967435, {13: 2}), ({0: 2}, {2: 1}, 5141687640.098337, {}), ({11: 2}, {6: 1}, 4814049818.92958, {}), ({0: 1, 3: 1}, {2: 1, 12: 1}, 27620584849.903786, {13: 1}), ({11: 1, 3: 1}, {12: 1}, 35532223631.79411, {}), ({0: 1, 11: 1}, {13: 1}, 10937407573.68078, {}), ({3: 1, 6: 1}, {11: 1, 12: 1}, 13615735593.986479, {}), ({8: 1, 3: 1}, {9: 1}, 22905112692.006832, {}), ({3: 1, 6: 1}, {11: 1, 12: 1}, 12982165509.204676, {}), ({3: 1, 5: 1}, {4: 1}, 12982165509.204676, {}), ({0: 1, 6: 1}, {11: 1, 13: 1}, 36503386.82158795, {}), ({0: 1, 8: 1}, {5: 1}, 13076581190.923431, {}), ({0: 1, 5: 1}, {11: 2}, 11384254168.518192, {}), ({0: 1, 9: 1}, {4: 1}, 11384254168.518192, {}), ({11: 1, 6: 1}, {13: 1, 5: 1}, 29195422.15773015, {}), ({9: 1, 11: 1}, {8: 1, 12: 1}, 10973581753.227375, {}), ({11: 1, 5: 1}, {8: 1, 13: 1}, 8839961043.22633, {}), ({5: 2}, {8: 1, 6: 1}, 839927.9991826, {}), ({9: 1, 5: 1}, {8: 1, 12: 1, 6: 1}, 100175226.0291507, {13: 1}), ({6: 1}, {8: 1, 13: 2}, 1.297536055993305e-07, {6: 1}), ({11: 1, 4: 1}, {9: 1, 13: 1}, 4067124022.2270365, {}), ({6: 1, 7: 1}, {12: 1, 5: 1}, 4067124022.2270365, {}), ({4: 1, 7: 1}, {9: 1, 12: 1}, 786365799.8899204, {}), ({2: 1, 7: 1}, {0: 1, 12: 1}, 127932793.55517752, {}), ({13: 1}, {1: 1, 12: 1}, 2.469572918533074e-05, {}), ({1: 1, 12: 1}, {13: 1}, 137435350882.69037, {}), ({6: 1}, {1: 1, 4: 1}, 0.0942799172846811, {}), ({1: 1, 4: 1}, {6: 1}, 50221841181.85533, {}), ({12: 1, 6: 1}, {4: 1, 13: 1}, 13303373557.265, {}), ({4: 1, 13: 1}, {12: 1, 6: 1}, 1273381.7524374295, {}), ({11: 1}, {1: 1, 7: 1}, 0.0942799172846811, {}), ({1: 1, 7: 1}, {11: 1}, 50221841181.85533, {}), ({11: 1, 12: 1}, {13: 1, 7: 1}, 13303373557.265, {}), ({13: 1, 7: 1}, {11: 1, 12: 1}, 1273381.7524374295, {}), ({5: 1}, {1: 1, 9: 1}, 772661.4132168075, {}), ({1: 1, 9: 1}, {5: 1}, 50221841181.85533, {}), ({12: 1, 5: 1}, {9: 1, 13: 1}, 13303373557.265, {}), ({9: 1, 13: 1}, {12: 1, 5: 1}, 0.15537766509110776, {}), ({0: 1}, {1: 1, 3: 1}, 5.832241910489462, {}), ({1: 1, 3: 1}, {0: 1}, 20948904196.80398, {}), ({0: 1, 12: 1}, {3: 1, 13: 1}, 24403836.653292242, {}), ({3: 1, 13: 1}, {0: 1, 12: 1}, 15.750969446799516, {}), ({0: 1, 13: 1}, {2: 1, 11: 1}, 4.5752318557708666e-05, {}), ({2: 1, 11: 1}, {0: 1, 13: 1}, 39535182.92510026, {}), ({8: 1, 7: 1}, {10: 1}, 3747413146.2747374, {}), ({10: 1}, {8: 1, 7: 1}, 2616.9169985037124, {})]\n",
    "_ = _species.pop(_species.index('HO3'))\n",
    "_ = _species.pop(_species.index('O3-'))"
   ]
  },
  {
   "cell_type": "code",
   "execution_count": null,
   "metadata": {
    "collapsed": false
   },
   "outputs": [],
   "source": [
    "species = [Substance(s) for s in _species]\n",
    "reactions = [Reaction({species[k]: v for k, v in reac.items()},\n",
    "                      {species[k]: v for k, v in prod.items()}, k,\n",
    "                      {species[k]: v for k, v in inact_reac.items()}) for reac, prod, k, inact_reac in _reactions]"
   ]
  },
  {
   "cell_type": "code",
   "execution_count": null,
   "metadata": {
    "collapsed": false
   },
   "outputs": [],
   "source": [
    "rsys = ReactionSystem(reactions, species)\n",
    "odesys = get_odesys(rsys)\n",
    "odesys.exprs[:3]"
   ]
  },
  {
   "cell_type": "code",
   "execution_count": null,
   "metadata": {
    "collapsed": false
   },
   "outputs": [],
   "source": [
    "j = odesys.get_jac()\n",
    "j.shape"
   ]
  },
  {
   "cell_type": "code",
   "execution_count": null,
   "metadata": {
    "collapsed": true
   },
   "outputs": [],
   "source": [
    "def integrate_and_plot(odesys, c0_dict, solver, ax=None, zero_conc=0, **kwargs):\n",
    "    c0 = [c0_dict.get(k, zero_conc) for k in _species]\n",
    "    out = odesys.integrate(solver, np.logspace(-12, 6), c0, params=rsys.params(), **kwargs)\n",
    "    if ax is None:\n",
    "        ax = plt.subplot(1, 1, 1)\n",
    "    odesys.plot_result(plot=ax.plot)\n",
    "    ax.set_xscale('log'); ax.set_yscale('log')\n",
    "    mpl_outside_legend(ax, prop={'size': 9})"
   ]
  },
  {
   "cell_type": "code",
   "execution_count": null,
   "metadata": {
    "collapsed": false
   },
   "outputs": [],
   "source": [
    "# [\"H\", \"H+\", \"H2\", \"e-aq\", \"HO2-\", \"HO2\", \"H2O2\", \"HO3\", \"O-\", \"O2\", \"O2-\", \"O3\", \"O3-\", \"OH\", \"OH-\", \"H2O\"]\n",
    "c0_dict = {'H+': 1e-7, 'OH-': 1e-7, 'H2O': 55.5} #, 'H2O2': 1e-20}\n",
    "integrate_and_plot(odesys, c0_dict, 'cvode', atol=1e-3, rtol=1e-3)"
   ]
  },
  {
   "cell_type": "code",
   "execution_count": null,
   "metadata": {
    "collapsed": false
   },
   "outputs": [],
   "source": [
    "#%debug"
   ]
  },
  {
   "cell_type": "code",
   "execution_count": null,
   "metadata": {
    "collapsed": false
   },
   "outputs": [],
   "source": [
    "class Partial(object):\n",
    "    # functools.partial does not propagate getattr, setattr...\n",
    "    def __init__(self, cb, **kwargs):\n",
    "        self._Partial_cb = cb\n",
    "        self._Partial_kwargs = kwargs\n",
    "    \n",
    "    def __call__(self, *args, **kwargs):\n",
    "        new_kwargs = self._Partial_kwargs.copy()\n",
    "        new_kwargs.update(kwargs)\n",
    "        return self._Partial_cb(*args, **new_kwargs)\n",
    "    \n",
    "    def __getattr__(self, key):\n",
    "        if key.startswith('_Partial_'):\n",
    "            return self.__dict__[key]\n",
    "        return getattr(self._Partial_cb, key)\n",
    "    \n",
    "    def __setattr__(self, key, value):\n",
    "        if key.startswith('_Partial_'):\n",
    "            self.__dict__[key] = value\n",
    "        setattr(self._Partial_cb, key, value)"
   ]
  },
  {
   "cell_type": "code",
   "execution_count": null,
   "metadata": {
    "collapsed": false,
    "scrolled": true
   },
   "outputs": [],
   "source": [
    "from pyodesys.symbolic import ScaledSys\n",
    "ssys = get_odesys(rsys, Partial(ScaledSys, dep_scaling=1e6))"
   ]
  },
  {
   "cell_type": "code",
   "execution_count": null,
   "metadata": {
    "collapsed": true
   },
   "outputs": [],
   "source": [
    "def integrate_and_plot_scaled(rsys, dep_scaling, *args, **kwargs):\n",
    "    integrate_and_plot(get_odesys(rsys, Partial(ScaledSys, dep_scaling=dep_scaling)), *args, **kwargs)"
   ]
  },
  {
   "cell_type": "code",
   "execution_count": null,
   "metadata": {
    "collapsed": false
   },
   "outputs": [],
   "source": [
    "fig, axes = plt.subplots(2, 2, figsize=(14, 14))\n",
    "solvers = 'cvode', 'odeint', 'scipy', 'scipy'\n",
    "for idx, ax in enumerate(np.ravel(axes)):\n",
    "    integrate_and_plot_scaled(rsys, 1e12, c0_dict, solvers[idx], ax=ax, atol=1e-4, rtol=1e-4)"
   ]
  },
  {
   "cell_type": "code",
   "execution_count": null,
   "metadata": {
    "collapsed": false,
    "scrolled": true
   },
   "outputs": [],
   "source": [
    "integrate_and_plot(odesys, c0_dict, 'odeint')"
   ]
  },
  {
   "cell_type": "code",
   "execution_count": null,
   "metadata": {
    "collapsed": false
   },
   "outputs": [],
   "source": [
    "integrate_and_plot(odesys, c0_dict, 'scipy')"
   ]
  },
  {
   "cell_type": "code",
   "execution_count": null,
   "metadata": {
    "collapsed": false
   },
   "outputs": [],
   "source": [
    "from pyodesys.symbolic import TransformedSys\n",
    "\n",
    "class LogLogSys(TransformedSys):\n",
    "    \n",
    "    def __init__(self, dep_exprs, indep=None, **kwargs):\n",
    "        dep, exprs = zip(*dep_exprs)\n",
    "        super(LogLogSys, self).__init__(\n",
    "            zip(dep, exprs), indep, \n",
    "            dep_transf=[(sympy.log(y), sympy.exp(y)) for y in dep],\n",
    "            indep_transf=(sympy.log(indep), sympy.exp(indep)), **kwargs)\n",
    "tsys = get_odesys(rsys, LogLogSys)"
   ]
  },
  {
   "cell_type": "code",
   "execution_count": null,
   "metadata": {
    "collapsed": false
   },
   "outputs": [],
   "source": [
    "integrate_and_plot(tsys, c0_dict, 'scipy', zero_conc=1e-24)"
   ]
  },
  {
   "cell_type": "code",
   "execution_count": null,
   "metadata": {
    "collapsed": false
   },
   "outputs": [],
   "source": [
    "from pyodesys.symbolic import symmetricsys\n",
    "logexp = (sympy.log, sympy.exp)\n",
    "LogLogSys = symmetricsys(logexp, logexp, exprs_process_cb=lambda exprs: [\n",
    "        sympy.powsimp(expr.expand(), force=True) for expr in exprs])\n",
    "loglogsys = get_odesys(rsys, LogLogSys)"
   ]
  },
  {
   "cell_type": "code",
   "execution_count": null,
   "metadata": {
    "collapsed": false
   },
   "outputs": [],
   "source": [
    "loglogsys.exprs[:3]"
   ]
  },
  {
   "cell_type": "code",
   "execution_count": null,
   "metadata": {
    "collapsed": false
   },
   "outputs": [],
   "source": [
    "#integrate_and_plot(loglogsys, c0_dict, 'gsl', zero_conc=1e-50, first_step=1e-3)"
   ]
  }
 ],
 "metadata": {
  "kernelspec": {
   "display_name": "Python 2",
   "language": "python",
   "name": "python2"
  },
  "language_info": {
   "codemirror_mode": {
    "name": "ipython",
    "version": 2
   },
   "file_extension": ".py",
   "mimetype": "text/x-python",
   "name": "python",
   "nbconvert_exporter": "python",
   "pygments_lexer": "ipython2",
   "version": "2.7.6"
  }
 },
 "nbformat": 4,
 "nbformat_minor": 0
}
