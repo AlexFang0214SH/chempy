{
 "cells": [
  {
   "cell_type": "code",
   "execution_count": null,
   "metadata": {
    "collapsed": false
   },
   "outputs": [],
   "source": [
    "from __future__ import absolute_import, division, print_function\n",
    "import numpy as np\n",
    "import sympy\n",
    "import matplotlib.pyplot as plt\n",
    "from chempy.chemistry import Reaction, Substance, ReactionSystem\n",
    "from chempy.kinetics.ode import get_odesys\n",
    "from pyneqsys.plotting import mpl_outside_legend\n",
    "sympy.init_printing()\n",
    "%matplotlib inline"
   ]
  },
  {
   "cell_type": "code",
   "execution_count": null,
   "metadata": {
    "collapsed": false
   },
   "outputs": [],
   "source": [
    "# Never mind the next row, it contains all the reaction data of aqueous radiolysis at room temperature\n",
    "_species, _reactions = ['H', 'H+', 'H2', 'e-aq', 'HO2-', 'HO2', 'H2O2', 'O-', 'O2', 'O2-', 'O3-', 'OH', 'OH-', 'H2O'], [({3: 2}, {2: 1, 12: 2}, 7259834472.967435, {13: 2}), ({0: 2}, {2: 1}, 5141687640.098337, {}), ({11: 2}, {6: 1}, 4814049818.92958, {}), ({0: 1, 3: 1}, {2: 1, 12: 1}, 27620584849.903786, {13: 1}), ({11: 1, 3: 1}, {12: 1}, 35532223631.79411, {}), ({0: 1, 11: 1}, {13: 1}, 10937407573.68078, {}), ({3: 1, 6: 1}, {11: 1, 12: 1}, 13615735593.986479, {}), ({8: 1, 3: 1}, {9: 1}, 22905112692.006832, {}), ({9: 1, 3: 1}, {12: 2, 6: 1}, 12982165509.204676, {}), ({3: 1, 5: 1}, {4: 1}, 12982165509.204676, {}), ({0: 1, 6: 1}, {11: 1, 13: 1}, 36503386.82158795, {}), ({0: 1, 8: 1}, {5: 1}, 13076581190.923431, {}), ({0: 1, 5: 1}, {11: 2}, 11384254168.518192, {}), ({0: 1, 9: 1}, {4: 1}, 11384254168.518192, {}), ({11: 1, 6: 1}, {13: 1, 5: 1}, 29195422.15773015, {}), ({9: 1, 11: 1}, {8: 1, 12: 1}, 10973581753.227375, {}), ({11: 1, 5: 1}, {8: 1, 13: 1}, 8839961043.22633, {}), ({5: 2}, {8: 1, 6: 1}, 839927.9991826, {}), ({9: 1, 5: 1}, {8: 1, 12: 1, 6: 1}, 100175226.0291507, {13: 1}), ({6: 1}, {8: 1, 13: 2}, 1.297536055993305e-07, {6: 1}), ({11: 1, 4: 1}, {9: 1, 13: 1}, 4067124022.2270365, {}), ({6: 1, 7: 1}, {12: 1, 5: 1}, 4067124022.2270365, {}), ({4: 1, 7: 1}, {9: 1, 12: 1}, 786365799.8899204, {}), ({2: 1, 7: 1}, {0: 1, 12: 1}, 127932793.55517752, {}), ({13: 1}, {1: 1, 12: 1}, 2.469572918533074e-05, {}), ({1: 1, 12: 1}, {13: 1}, 137435350882.69037, {}), ({6: 1}, {1: 1, 4: 1}, 0.0942799172846811, {}), ({1: 1, 4: 1}, {6: 1}, 50221841181.85533, {}), ({12: 1, 6: 1}, {4: 1, 13: 1}, 13303373557.265, {}), ({4: 1, 13: 1}, {12: 1, 6: 1}, 1273381.7524374295, {}), ({11: 1}, {1: 1, 7: 1}, 0.0942799172846811, {}), ({1: 1, 7: 1}, {11: 1}, 50221841181.85533, {}), ({11: 1, 12: 1}, {13: 1, 7: 1}, 13303373557.265, {}), ({13: 1, 7: 1}, {11: 1, 12: 1}, 1273381.7524374295, {}), ({5: 1}, {1: 1, 9: 1}, 772661.4132168075, {}), ({1: 1, 9: 1}, {5: 1}, 50221841181.85533, {}), ({12: 1, 5: 1}, {9: 1, 13: 1}, 13303373557.265, {}), ({9: 1, 13: 1}, {12: 1, 5: 1}, 0.15537766509110776, {}), ({0: 1}, {1: 1, 3: 1}, 5.832241910489462, {}), ({1: 1, 3: 1}, {0: 1}, 20948904196.80398, {}), ({0: 1, 12: 1}, {3: 1, 13: 1}, 24403836.653292242, {}), ({3: 1, 13: 1}, {0: 1, 12: 1}, 15.750969446799516, {}), ({0: 1, 13: 1}, {2: 1, 11: 1}, 4.5752318557708666e-05, {}), ({2: 1, 11: 1}, {0: 1, 13: 1}, 39535182.92510026, {}), ({8: 1, 7: 1}, {10: 1}, 3747413146.2747374, {}), ({10: 1}, {8: 1, 7: 1}, 2616.9169985037124, {})]"
   ]
  },
  {
   "cell_type": "code",
   "execution_count": null,
   "metadata": {
    "collapsed": false
   },
   "outputs": [],
   "source": [
    "species = [Substance(s) for s in _species]\n",
    "reactions = [\n",
    "    Reaction({_species[k]: v for k, v in reac.items()},\n",
    "             {_species[k]: v for k, v in prod.items()}, param,\n",
    "             {_species[k]: v for k, v in inact_reac.items()})\n",
    "    for reac, prod, param, inact_reac in _reactions\n",
    "]"
   ]
  },
  {
   "cell_type": "code",
   "execution_count": null,
   "metadata": {
    "collapsed": true
   },
   "outputs": [],
   "source": [
    "# radiolytic yields for gamma radiolysis of neat water\n",
    "C_H2O = 55.5\n",
    "YIELD_CONV = 0 #1.0364e-07 # mol * eV / (J * molecules)\n",
    "prod_rxns = [\n",
    "    Reaction({'H2O': 1}, {'H+': 1,  'OH-': 1},          0.5  * YIELD_CONV / C_H2O),\n",
    "    Reaction({'H2O': 1}, {'H+': 1, 'e-aq': 1, 'OH': 1}, 2.6  * YIELD_CONV / C_H2O),\n",
    "    Reaction({'H2O': 1}, {'H':  2, 'H2O2': 1},          0.66 * YIELD_CONV / C_H2O, {'H2O': 1}),\n",
    "    Reaction({'H2O': 1}, {'H2': 1, 'H2O2': 1},          0.74 * YIELD_CONV / C_H2O, {'H2O': 1}),\n",
    "    Reaction({'H2O': 1}, {'H2': 1,   'OH': 2},          0.1  * YIELD_CONV / C_H2O, {'H2O': 1}),\n",
    "    Reaction({'H2O': 1}, {'H2': 3,  'HO2': 2},          0.04 * YIELD_CONV / C_H2O, {'H2O': 3}),\n",
    "]"
   ]
  },
  {
   "cell_type": "code",
   "execution_count": null,
   "metadata": {
    "collapsed": false,
    "scrolled": false
   },
   "outputs": [],
   "source": [
    "rsys = ReactionSystem(prod_rxns + reactions, species)\n",
    "for rxn in rsys.rxns:\n",
    "    print(str(rxn))  # 1 Gy/s"
   ]
  },
  {
   "cell_type": "code",
   "execution_count": null,
   "metadata": {
    "collapsed": false
   },
   "outputs": [],
   "source": [
    "odesys = get_odesys(rsys)\n",
    "odesys.exprs[:3]"
   ]
  },
  {
   "cell_type": "code",
   "execution_count": null,
   "metadata": {
    "collapsed": false
   },
   "outputs": [],
   "source": [
    "j = odesys.get_jac()\n",
    "j.shape"
   ]
  },
  {
   "cell_type": "code",
   "execution_count": null,
   "metadata": {
    "collapsed": true
   },
   "outputs": [],
   "source": [
    "def integrate_and_plot(odesys, c0_dict, integrator, ax=None, zero_conc=0, **kwargs):\n",
    "    c0 = [c0_dict.get(k, zero_conc) for k in _species]\n",
    "    out = odesys.integrate(np.logspace(-12, 6), c0, params=rsys.params(), integrator=integrator, **kwargs)\n",
    "    if ax is None:\n",
    "        ax = plt.subplot(1, 1, 1)\n",
    "    odesys.plot_result(plot=ax.plot)\n",
    "    ax.set_xscale('log'); ax.set_yscale('log')\n",
    "    mpl_outside_legend(ax, prop={'size': 9})"
   ]
  },
  {
   "cell_type": "code",
   "execution_count": null,
   "metadata": {
    "collapsed": false
   },
   "outputs": [],
   "source": [
    "# [\"H\", \"H+\", \"H2\", \"e-aq\", \"HO2-\", \"HO2\", \"H2O2\", \"HO3\", \"O-\", \"O2\", \"O2-\", \"O3\", \"O3-\", \"OH\", \"OH-\", \"H2O\"]\n",
    "c0_dict = {'H+': 1e-7, 'OH-': 1e-7, 'H2O': 55.5}  # , 'H2O2': 1e-20}\n",
    "plt.figure(figsize=(16,6))\n",
    "integrate_and_plot(odesys, c0_dict, integrator='gsl', first_step=1e-14, atol=1e-3, rtol=1e-3)\n",
    "plt.legend()\n",
    "plt.ylim([1e-16, 60])"
   ]
  },
  {
   "cell_type": "code",
   "execution_count": null,
   "metadata": {
    "collapsed": false
   },
   "outputs": [],
   "source": [
    "#%debug"
   ]
  },
  {
   "cell_type": "code",
   "execution_count": null,
   "metadata": {
    "collapsed": false
   },
   "outputs": [],
   "source": [
    "class Partial(object):\n",
    "    # functools.partial does not propagate getattr, setattr...\n",
    "    def __init__(self, cb, **kwargs):\n",
    "        self._Partial_cb = cb\n",
    "        self._Partial_kwargs = kwargs\n",
    "    \n",
    "    def __call__(self, *args, **kwargs):\n",
    "        new_kwargs = self._Partial_kwargs.copy()\n",
    "        new_kwargs.update(kwargs)\n",
    "        return self._Partial_cb(*args, **new_kwargs)\n",
    "    \n",
    "    def __getattr__(self, key):\n",
    "        if key.startswith('_Partial_'):\n",
    "            return self.__dict__[key]\n",
    "        return getattr(self._Partial_cb, key)\n",
    "    \n",
    "    def __setattr__(self, key, value):\n",
    "        if key.startswith('_Partial_'):\n",
    "            self.__dict__[key] = value\n",
    "        setattr(self._Partial_cb, key, value)"
   ]
  },
  {
   "cell_type": "code",
   "execution_count": null,
   "metadata": {
    "collapsed": false,
    "scrolled": true
   },
   "outputs": [],
   "source": [
    "from pyodesys.symbolic import ScaledSys\n",
    "ssys = get_odesys(rsys, SymbolicSys=Partial(ScaledSys, dep_scaling=1e6))"
   ]
  },
  {
   "cell_type": "code",
   "execution_count": null,
   "metadata": {
    "collapsed": true
   },
   "outputs": [],
   "source": [
    "def integrate_and_plot_scaled(rsys, dep_scaling, *args, **kwargs):\n",
    "    integrate_and_plot(get_odesys(\n",
    "            rsys, SymbolicSys=Partial(ScaledSys, dep_scaling=dep_scaling)), *args, **kwargs)"
   ]
  },
  {
   "cell_type": "markdown",
   "metadata": {
    "collapsed": false
   },
   "source": [
    "fig, axes = plt.subplots(2, 2, figsize=(14, 14))\n",
    "solvers = 'cvode', 'odeint', 'scipy', 'scipy'\n",
    "for idx, ax in enumerate(np.ravel(axes)):\n",
    "    integrate_and_plot_scaled(rsys, 1e12, c0_dict, solvers[idx], ax=ax, atol=1e-4, rtol=1e-4)"
   ]
  },
  {
   "cell_type": "code",
   "execution_count": null,
   "metadata": {
    "collapsed": false,
    "scrolled": true
   },
   "outputs": [],
   "source": [
    "integrate_and_plot(odesys, c0_dict, 'odeint')"
   ]
  },
  {
   "cell_type": "code",
   "execution_count": null,
   "metadata": {
    "collapsed": false
   },
   "outputs": [],
   "source": [
    "integrate_and_plot(odesys, c0_dict, 'scipy')"
   ]
  },
  {
   "cell_type": "code",
   "execution_count": null,
   "metadata": {
    "collapsed": false
   },
   "outputs": [],
   "source": [
    "from pyodesys.symbolic import symmetricsys\n",
    "logexp = (sympy.log, sympy.exp)\n",
    "LogLogSys = symmetricsys(logexp, logexp, exprs_process_cb=lambda exprs: [\n",
    "        sympy.powsimp(expr.expand(), force=True) for expr in exprs])\n",
    "loglogsys = get_odesys(rsys, SymbolicSys=LogLogSys)"
   ]
  },
  {
   "cell_type": "code",
   "execution_count": null,
   "metadata": {
    "collapsed": false
   },
   "outputs": [],
   "source": [
    "loglogsys.exprs[:3]"
   ]
  },
  {
   "cell_type": "markdown",
   "metadata": {
    "collapsed": false
   },
   "source": [
    "integrate_and_plot(loglogsys, c0_dict, 'gsl', zero_conc=1e-50, first_step=1e-3)"
   ]
  }
 ],
 "metadata": {
  "kernelspec": {
   "display_name": "Python 3",
   "language": "python",
   "name": "python3"
  },
  "language_info": {
   "codemirror_mode": {
    "name": "ipython",
    "version": 3
   },
   "file_extension": ".py",
   "mimetype": "text/x-python",
   "name": "python",
   "nbconvert_exporter": "python",
   "pygments_lexer": "ipython3",
   "version": "3.4.3"
  }
 },
 "nbformat": 4,
 "nbformat_minor": 0
}
