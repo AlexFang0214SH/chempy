{
 "cells": [
  {
   "cell_type": "code",
   "execution_count": null,
   "metadata": {
    "collapsed": true
   },
   "outputs": [],
   "source": [
    "from collections import OrderedDict, defaultdict\n",
    "from IPython.display import Latex, display\n",
    "import matplotlib.pyplot as plt\n",
    "import sympy\n",
    "from chempy import Substance, Equilibrium, Reaction, ReactionSystem\n",
    "from chempy.kinetics.ode import get_odesys\n",
    "from chempy.kinetics.rates import MassAction\n",
    "from chempy.thermodynamics.expressions import EqExpr\n",
    "from chempy.util.graph import rsys2graph\n",
    "from chempy.util.pyutil import defaultkeydict\n",
    "%matplotlib inline"
   ]
  },
  {
   "cell_type": "code",
   "execution_count": null,
   "metadata": {
    "collapsed": true
   },
   "outputs": [],
   "source": [
    "substances = OrderedDict([\n",
    "    ('N', Substance('N', composition={'protein': 1}, latex_name='[N]')),\n",
    "    ('U', Substance('U', composition={'protein': 1}, latex_name='[U]')),\n",
    "    ('A', Substance('A', composition={'protein': 1}, latex_name='[A]')),\n",
    "    ('L', Substance('L', composition={'ligand': 1}, latex_name='[L]')),\n",
    "    ('NL', Substance('NL', composition={'protein': 1, 'ligand': 1}, latex_name='[NL]')),\n",
    "])"
   ]
  },
  {
   "cell_type": "code",
   "execution_count": null,
   "metadata": {
    "collapsed": false
   },
   "outputs": [],
   "source": [
    "def _gibbs(args, T, R, backend):\n",
    "    H, S, Cp, Tref = args\n",
    "    H2 = H + Cp*(T - Tref)\n",
    "    S2 = S + Cp*backend.log(T/Tref)\n",
    "    return backend.exp(-(H2 - T*S2)/(R*T))\n",
    "\n",
    "def _eyring(args, T, R, k_B, h, backend):\n",
    "    H, S = args\n",
    "    return k_B/h*T*backend.exp(-(H - T*S)/(R*T))"
   ]
  },
  {
   "cell_type": "code",
   "execution_count": null,
   "metadata": {
    "collapsed": false
   },
   "outputs": [],
   "source": [
    "Gibbs = EqExpr.from_callback(_gibbs, parameter_keys=('temperature', 'R'), argument_names=('H', 'S', 'Cp', 'Tref'))\n",
    "Eyring = MassAction.from_callback(_eyring, parameter_keys=('temperature', 'R', 'k_B', 'h'), argument_names=('H', 'S'))"
   ]
  },
  {
   "cell_type": "code",
   "execution_count": null,
   "metadata": {
    "collapsed": false
   },
   "outputs": [],
   "source": [
    "thermo_dis = Gibbs(unique_keys=('He_dis', 'Se_dis', 'Cp_dis', 'Tref_dis'))\n",
    "thermo_u = Gibbs(unique_keys=('He_u', 'Se_u', 'Cp_u', 'Tref_u'))  # ([He_u_R, Se_u_R, Cp_u_R, Tref])\n",
    "kinetics_agg = Eyring(unique_keys=('Ha_agg', 'Sa_agg'))  # EyringMassAction([Ha_agg, Sa_agg])\n",
    "kinetics_as = Eyring(unique_keys=('Ha_as', 'Sa_as'))\n",
    "kinetics_f = Eyring(unique_keys=('Ha_f', 'Sa_f'))"
   ]
  },
  {
   "cell_type": "code",
   "execution_count": null,
   "metadata": {
    "collapsed": false
   },
   "outputs": [],
   "source": [
    "eq_dis = Equilibrium({'NL'}, {'N', 'L'}, thermo_dis, name='ligand-protein dissociation')\n",
    "eq_u = Equilibrium({'N'}, {'U'}, thermo_u, {'L'}, {'L'}, name='protein unfolding')\n",
    "r_agg = Reaction({'U'}, {'A'}, kinetics_agg, {'L'}, {'L'}, name='protein aggregation')"
   ]
  },
  {
   "cell_type": "code",
   "execution_count": null,
   "metadata": {
    "collapsed": false
   },
   "outputs": [],
   "source": [
    "rsys = ReactionSystem(\n",
    "    eq_dis.as_reactions(kb=kinetics_as, new_name='ligand-protein association') +\n",
    "    eq_u.as_reactions(kb=kinetics_f, new_name='protein folding') +\n",
    "    (r_agg,), substances, name='4-state CETSA system')\n",
    "rsys"
   ]
  },
  {
   "cell_type": "code",
   "execution_count": null,
   "metadata": {
    "collapsed": false
   },
   "outputs": [],
   "source": [
    "vecs, comp = rsys.composition_balance_vectors()\n",
    "names = rsys.substance_names()\n",
    "dict(zip(comp, [dict(zip(names, v)) for v in vecs]))"
   ]
  },
  {
   "cell_type": "code",
   "execution_count": null,
   "metadata": {
    "collapsed": false
   },
   "outputs": [],
   "source": [
    "rsys2graph(rsys, '4state.png', save='.', include_inactive=False)\n",
    "from IPython.display import Image; Image('4state.png')"
   ]
  },
  {
   "cell_type": "code",
   "execution_count": null,
   "metadata": {
    "collapsed": false,
    "scrolled": true
   },
   "outputs": [],
   "source": [
    "from IPython.display import HTML\n",
    "HTML('1st order processes\\n' + rsys.unimolecular_html_table()[0] +\n",
    "     '<br><br>2nd order processes\\n' + rsys.bimolecular_html_table()[0])"
   ]
  },
  {
   "cell_type": "code",
   "execution_count": null,
   "metadata": {
    "collapsed": false
   },
   "outputs": [],
   "source": [
    "def mk_Symbol(key):\n",
    "    if key in substances:\n",
    "        arg = substances[key].latex_name\n",
    "    else:\n",
    "        arg = key.replace('temperature', 'T')\n",
    "    return sympy.Symbol(arg)\n",
    "\n",
    "autosymbols = defaultkeydict(mk_Symbol)\n",
    "rnames = {}\n",
    "for rxn in rsys:\n",
    "    rnames[rxn.name] = rxn.name.replace(' ', '~').replace('-','-')\n",
    "    rate_expr_str = sympy.latex(rxn.rate_expr()(autosymbols, backend=sympy))\n",
    "    lstr = r'$r(\\mathrm{%s}) = %s$' % (rnames[rxn.name], rate_expr_str)\n",
    "    display(Latex(lstr))"
   ]
  },
  {
   "cell_type": "code",
   "execution_count": null,
   "metadata": {
    "collapsed": false
   },
   "outputs": [],
   "source": [
    "k = 'protein unfolding'\n",
    "assert isinstance(rsys[k].param, MassAction)\n",
    "assert rsys[k].param.rxn == rsys[k]\n",
    "rsys[k].rate_expr()(defaultkeydict(sympy.Symbol), backend=sympy)"
   ]
  },
  {
   "cell_type": "code",
   "execution_count": null,
   "metadata": {
    "collapsed": false
   },
   "outputs": [],
   "source": [
    "type(rsys[k].param)"
   ]
  },
  {
   "cell_type": "code",
   "execution_count": null,
   "metadata": {
    "collapsed": false,
    "scrolled": true
   },
   "outputs": [],
   "source": [
    "for rxn in rsys:\n",
    "    print(rxn.rate_expr()(autosymbols, backend=sympy))"
   ]
  },
  {
   "cell_type": "code",
   "execution_count": null,
   "metadata": {
    "collapsed": false
   },
   "outputs": [],
   "source": [
    "ratexs = [autosymbols['r(\\mathrm{%s})' % rnames[rxn.name]] for rxn in rsys.rxns]\n",
    "rates = rsys.rates(autosymbols, backend=sympy, ratexs=ratexs)\n",
    "for k, v in rates.items():\n",
    "    display(Latex(r'$\\frac{[%s]}{dt} = %s$' % (k, sympy.latex(v))))"
   ]
  },
  {
   "cell_type": "code",
   "execution_count": null,
   "metadata": {
    "collapsed": false
   },
   "outputs": [],
   "source": [
    "odesys = get_odesys(rsys, include_params=False)"
   ]
  },
  {
   "cell_type": "code",
   "execution_count": null,
   "metadata": {
    "collapsed": false
   },
   "outputs": [],
   "source": [
    "params = dict(\n",
    "    R = 8.314472,  # or N_A & kB\n",
    "    kB = 1.3806504e-23,\n",
    "    h = 6.62606896e-34,  # kB/h == 2.083664399411865e10 K**-1 * s**-1\n",
    "    Ha_as = 30e3,\n",
    "    Sa_as = -200,\n",
    "    He_dis = \n",
    ")"
   ]
  },
  {
   "cell_type": "code",
   "execution_count": null,
   "metadata": {
    "collapsed": true
   },
   "outputs": [],
   "source": [
    "c0 = defaultdict(float, {'N': 1, 'L': 10})\n",
    "odesys.integrate(1e10, c0, params, integrator='cvode', nsteps=2000)"
   ]
  }
 ],
 "metadata": {
  "kernelspec": {
   "display_name": "Python 3",
   "language": "python",
   "name": "python3"
  },
  "language_info": {
   "codemirror_mode": {
    "name": "ipython",
    "version": 3
   },
   "file_extension": ".py",
   "mimetype": "text/x-python",
   "name": "python",
   "nbconvert_exporter": "python",
   "pygments_lexer": "ipython3",
   "version": "3.5.2"
  }
 },
 "nbformat": 4,
 "nbformat_minor": 1
}
