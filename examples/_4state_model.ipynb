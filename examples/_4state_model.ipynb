{
 "cells": [
  {
   "cell_type": "code",
   "execution_count": null,
   "metadata": {
    "collapsed": false
   },
   "outputs": [],
   "source": [
    "from collections import OrderedDict, defaultdict\n",
    "import math\n",
    "import re\n",
    "from IPython.display import Latex, display\n",
    "import matplotlib.pyplot as plt\n",
    "import sympy\n",
    "from chempy import Substance, Equilibrium, Reaction, ReactionSystem\n",
    "from chempy.kinetics.ode import get_odesys\n",
    "from chempy.kinetics.rates import MassAction\n",
    "from chempy.thermodynamics.expressions import EqExpr\n",
    "from chempy.util.graph import rsys2graph\n",
    "from chempy.util.pyutil import defaultkeydict\n",
    "%matplotlib inline"
   ]
  },
  {
   "cell_type": "code",
   "execution_count": null,
   "metadata": {
    "collapsed": true
   },
   "outputs": [],
   "source": [
    "substances = OrderedDict([\n",
    "    ('N', Substance('N', composition={'protein': 1}, latex_name='[N]')),\n",
    "    ('U', Substance('U', composition={'protein': 1}, latex_name='[U]')),\n",
    "    ('A', Substance('A', composition={'protein': 1}, latex_name='[A]')),\n",
    "    ('L', Substance('L', composition={'ligand': 1}, latex_name='[L]')),\n",
    "    ('NL', Substance('NL', composition={'protein': 1, 'ligand': 1}, latex_name='[NL]')),\n",
    "])"
   ]
  },
  {
   "cell_type": "code",
   "execution_count": null,
   "metadata": {
    "collapsed": false
   },
   "outputs": [],
   "source": [
    "def _gibbs(args, T, R, backend, **kwargs):\n",
    "    H, S, Cp, Tref = args\n",
    "    H2 = H + Cp*(T - Tref)\n",
    "    S2 = S + Cp*backend.log(T/Tref)\n",
    "    return backend.exp(-(H2 - T*S2)/(R*T))\n",
    "\n",
    "def _eyring(args, T, R, k_B, h, backend, **kwargs):\n",
    "    H, S = args\n",
    "    return k_B/h*T*backend.exp(-(H - T*S)/(R*T))"
   ]
  },
  {
   "cell_type": "code",
   "execution_count": null,
   "metadata": {
    "collapsed": false
   },
   "outputs": [],
   "source": [
    "Gibbs = EqExpr.from_callback(_gibbs, parameter_keys=('temperature', 'R'), argument_names=('H', 'S', 'Cp', 'Tref'))\n",
    "Eyring = MassAction.from_callback(_eyring, parameter_keys=('temperature', 'R', 'k_B', 'h'), argument_names=('H', 'S'))"
   ]
  },
  {
   "cell_type": "code",
   "execution_count": null,
   "metadata": {
    "collapsed": false
   },
   "outputs": [],
   "source": [
    "thermo_dis = Gibbs(unique_keys=('He_dis', 'Se_dis', 'Cp_dis', 'Tref_dis'))\n",
    "thermo_u = Gibbs(unique_keys=('He_u', 'Se_u', 'Cp_u', 'Tref_u'))  # ([He_u_R, Se_u_R, Cp_u_R, Tref])\n",
    "kinetics_agg = Eyring(unique_keys=('Ha_agg', 'Sa_agg'))  # EyringMassAction([Ha_agg, Sa_agg])\n",
    "kinetics_as = Eyring(unique_keys=('Ha_as', 'Sa_as'))\n",
    "kinetics_f = Eyring(unique_keys=('Ha_f', 'Sa_f'))"
   ]
  },
  {
   "cell_type": "code",
   "execution_count": null,
   "metadata": {
    "collapsed": false
   },
   "outputs": [],
   "source": [
    "eq_dis = Equilibrium({'NL'}, {'N', 'L'}, thermo_dis, name='ligand-protein dissociation')\n",
    "eq_u = Equilibrium({'N'}, {'U'}, thermo_u, {'L'}, {'L'}, name='protein unfolding')\n",
    "r_agg = Reaction({'U'}, {'A'}, kinetics_agg, {'L'}, {'L'}, name='protein aggregation')"
   ]
  },
  {
   "cell_type": "code",
   "execution_count": null,
   "metadata": {
    "collapsed": false
   },
   "outputs": [],
   "source": [
    "rsys = ReactionSystem(\n",
    "    eq_dis.as_reactions(kb=kinetics_as, new_name='ligand-protein association') +\n",
    "    eq_u.as_reactions(kb=kinetics_f, new_name='protein folding') +\n",
    "    (r_agg,), substances, name='4-state CETSA system')\n",
    "# rsys"
   ]
  },
  {
   "cell_type": "code",
   "execution_count": null,
   "metadata": {
    "collapsed": false
   },
   "outputs": [],
   "source": [
    "vecs, comp = rsys.composition_balance_vectors()\n",
    "names = rsys.substance_names()\n",
    "dict(zip(comp, [dict(zip(names, v)) for v in vecs]))"
   ]
  },
  {
   "cell_type": "code",
   "execution_count": null,
   "metadata": {
    "collapsed": false
   },
   "outputs": [],
   "source": [
    "rsys2graph(rsys, '4state.png', save='.', include_inactive=False)\n",
    "from IPython.display import Image; Image('4state.png')"
   ]
  },
  {
   "cell_type": "code",
   "execution_count": null,
   "metadata": {
    "collapsed": false,
    "scrolled": true
   },
   "outputs": [],
   "source": [
    "from IPython.display import HTML\n",
    "HTML('1st order processes\\n' + rsys.unimolecular_html_table()[0] +\n",
    "     '<br><br>2nd order processes\\n' + rsys.bimolecular_html_table()[0])"
   ]
  },
  {
   "cell_type": "code",
   "execution_count": null,
   "metadata": {
    "collapsed": false
   },
   "outputs": [],
   "source": [
    "def pretty_replace(s, subs=None):\n",
    "    if subs is None:\n",
    "        subs = {\n",
    "            'Ha_(\\w+)': r'\\Delta_{\\1}H^{\\\\neq}',\n",
    "            'Sa_(\\w+)': r'\\Delta_{\\1}S^{\\\\neq}',\n",
    "            'He_(\\w+)': r'\\Delta_{\\1}H^\\circ',\n",
    "            'Se_(\\w+)': r'\\Delta_{\\1}S^\\circ',\n",
    "            'Cp_(\\w+)': r'\\Delta_{\\1}\\,C_p',\n",
    "            'Tref_(\\w+)': r'T^{\\circ}_{\\1}',\n",
    "        }\n",
    "    for pattern, repl in subs.items():\n",
    "        s = re.sub(pattern, repl, s)\n",
    "    return s\n",
    "\n",
    "def mk_Symbol(key):\n",
    "    if key in substances:\n",
    "        arg = substances[key].latex_name\n",
    "    else:\n",
    "        arg = pretty_replace(key.replace('temperature', 'T'))\n",
    "\n",
    "    return sympy.Symbol(arg)\n",
    "\n",
    "autosymbols = defaultkeydict(mk_Symbol)\n",
    "rnames = {}\n",
    "for rxn in rsys.rxns:\n",
    "    rnames[rxn.name] = rxn.name.replace(' ', '~').replace('-','-')\n",
    "    rate_expr_str = sympy.latex(rxn.rate_expr()(autosymbols, backend=sympy, reaction=rxn))\n",
    "    lstr = r'$r(\\mathrm{%s}) = %s$' % (rnames[rxn.name], rate_expr_str)\n",
    "    display(Latex(lstr))"
   ]
  },
  {
   "cell_type": "code",
   "execution_count": null,
   "metadata": {
    "collapsed": false
   },
   "outputs": [],
   "source": [
    "ratexs = [autosymbols['r(\\mathrm{%s})' % rnames[rxn.name]] for rxn in rsys.rxns]\n",
    "rates = rsys.rates(autosymbols, backend=sympy, ratexs=ratexs)\n",
    "for k, v in rates.items():\n",
    "    display(Latex(r'$\\frac{[%s]}{dt} = %s$' % (k, sympy.latex(v))))"
   ]
  },
  {
   "cell_type": "code",
   "execution_count": null,
   "metadata": {
    "collapsed": false
   },
   "outputs": [],
   "source": [
    "c0 = defaultdict(float, {'N': 1e-9, 'L': 1e-8})\n",
    "\n",
    "params = dict(\n",
    "    R=8.314472,  # or N_A & k_B\n",
    "    k_B=1.3806504e-23,\n",
    "    h=6.62606896e-34,  # k_B/h == 2.083664399411865e10 K**-1 * s**-1\n",
    "    He_dis=-45e3,\n",
    "    Se_dis=-400,\n",
    "    Cp_dis=1.78e3,\n",
    "    Tref_dis=298.15,\n",
    "    He_u=60e3,\n",
    "    Cp_u=20.5e3,\n",
    "    Tref_u=298.15,\n",
    "    Ha_agg=106e3,\n",
    "    Sa_agg=70,\n",
    "    Ha_as=4e3,\n",
    "    Sa_as=-10,\n",
    "    Ha_f=90e3,\n",
    "    Sa_f=50,\n",
    "    temperature=50 + 273.15\n",
    ")\n",
    "\n"
   ]
  },
  {
   "cell_type": "markdown",
   "metadata": {},
   "source": [
    "We have the melting temperature $T_m$ as a free parameter, however, the model is expressed in terms of $\\Delta_u S ^\\circ$ so will need to derive the latter from the former:\n",
    "$$\n",
    "\\begin{cases}\n",
    "\\Delta G = 0 \\\\\n",
    "\\Delta G = \\Delta H - T_m\\Delta_u S\n",
    "\\end{cases}\n",
    "$$\n",
    "$$\n",
    "\\begin{cases}\n",
    "\\Delta H = \\Delta H^\\circ + \\Delta C_p \\left( T_m - T^\\circ \\right) \\\\\n",
    "\\Delta S = \\Delta S^\\circ + \\Delta C_p \\ln\\left( \\frac{T_m}{T^\\circ} \\right)\n",
    "\\end{cases}\n",
    "$$\n",
    "this gives us the following equation:\n",
    "$$\n",
    "\\Delta H^\\circ + \\Delta C_p \\left( T_m - T^\\circ \\right) = T_m \\left( \\Delta S^\\circ + \\Delta C_p \\ln\\left( \\frac{T_m}{T^\\circ} \\right) \\right)\n",
    "$$\n",
    "Solving for $\\Delta S^\\circ$:\n",
    "$$\n",
    "\\Delta S^\\circ = T_m^{-1}\\left( \\Delta H^\\circ + \\Delta C_p \\left( T_m - T^\\circ \\right) \\right) - \\Delta C_p \\ln\\left( \\frac{T_m}{T^\\circ} \\right) \n",
    "$$"
   ]
  },
  {
   "cell_type": "code",
   "execution_count": null,
   "metadata": {
    "collapsed": false
   },
   "outputs": [],
   "source": [
    "def Se0_from_Tm(Tm, token):\n",
    "    dH0, T0, dCp = params['He_'+token], params['Tref_'+token], params['Cp_'+token]\n",
    "    return dH0/Tm + (Tm-T0)*dCp/Tm - dCp*math.log(Tm/T0)\n",
    "params['Se_u'] = Se0_from_Tm(48.2+273.15, 'u')\n",
    "params['Se_u']"
   ]
  },
  {
   "cell_type": "code",
   "execution_count": null,
   "metadata": {
    "collapsed": false
   },
   "outputs": [],
   "source": [
    "params_c0 = c0.copy()\n",
    "params_c0.update(params)\n",
    "for rxn in rsys.rxns:\n",
    "    print('%s: %.5g' % (rxn.name, rxn.rate_expr()(params_c0, reaction=rxn)))"
   ]
  },
  {
   "cell_type": "code",
   "execution_count": null,
   "metadata": {
    "collapsed": true
   },
   "outputs": [],
   "source": [
    "from pyodesys.symbolic import ScaledSys"
   ]
  },
  {
   "cell_type": "code",
   "execution_count": null,
   "metadata": {
    "collapsed": false
   },
   "outputs": [],
   "source": [
    "odesys, extra = get_odesys(rsys, include_params=False, SymbolicSys=ScaledSys, nonnegative=None, dep_scaling=1e9)\n",
    "h0max = extra['max_euler_step_cb'](0, c0, params)\n",
    "h0max"
   ]
  },
  {
   "cell_type": "code",
   "execution_count": null,
   "metadata": {
    "collapsed": false,
    "scrolled": true
   },
   "outputs": [],
   "source": [
    "def integrate_and_plot(system, first_step=None):\n",
    "    if first_step is None:\n",
    "        first_step = h0max*1e-11\n",
    "    tout, Cout, info = system.integrate(3600*24, c0, params, integrator='cvode', nsteps=9000,\n",
    "                                        atol=1e-11, rtol=1e-11, first_step=first_step)\n",
    "    _ = system.plot_result(xscale='log', yscale='log')\n",
    "    _ = plt.legend(loc='best')\n",
    "    return {k: v for k, v in info.items() if not k.startswith('internal')}\n",
    "info = integrate_and_plot(odesys)\n",
    "info"
   ]
  },
  {
   "cell_type": "code",
   "execution_count": null,
   "metadata": {
    "collapsed": false
   },
   "outputs": [],
   "source": [
    "from pyodesys.native.cvode import NativeCvodeSys\n",
    "native = NativeCvodeSys.from_other(odesys, first_step_expr=0*odesys.indep)"
   ]
  },
  {
   "cell_type": "code",
   "execution_count": null,
   "metadata": {
    "collapsed": false,
    "scrolled": true
   },
   "outputs": [],
   "source": [
    "info_native = integrate_and_plot(native)\n",
    "info_native"
   ]
  },
  {
   "cell_type": "code",
   "execution_count": null,
   "metadata": {
    "collapsed": false
   },
   "outputs": [],
   "source": [
    "info['time_wall']/info_native['time_wall']"
   ]
  },
  {
   "cell_type": "code",
   "execution_count": null,
   "metadata": {
    "collapsed": true
   },
   "outputs": [],
   "source": [
    "from chempy.kinetics._native import get_native"
   ]
  },
  {
   "cell_type": "code",
   "execution_count": null,
   "metadata": {
    "collapsed": false
   },
   "outputs": [],
   "source": [
    "native2 = get_native(rsys, odesys, 'cvode')"
   ]
  },
  {
   "cell_type": "code",
   "execution_count": null,
   "metadata": {
    "collapsed": false
   },
   "outputs": [],
   "source": [
    "info_native2 = integrate_and_plot(native2, first_step=0.0)\n",
    "info_native2"
   ]
  },
  {
   "cell_type": "markdown",
   "metadata": {},
   "source": [
    "We have one complication, due to linear dependencies in our formulation of the system of ODEs our jacobian is singular:"
   ]
  },
  {
   "cell_type": "code",
   "execution_count": null,
   "metadata": {
    "collapsed": false
   },
   "outputs": [],
   "source": [
    "odesys.jacobian_singular()"
   ]
  },
  {
   "cell_type": "markdown",
   "metadata": {
    "collapsed": true
   },
   "source": [
    "Since implicit methods (which are required for stiff cases often encountered in kinetic modelling) uses the jacboian in the modified Newton's method we may get failures during integration. What we can do is to identify linear dependencies based on composition of the materials and exploit the invariants to reduce the dimensionality of the system of ODEs:"
   ]
  },
  {
   "cell_type": "code",
   "execution_count": null,
   "metadata": {
    "collapsed": false
   },
   "outputs": [],
   "source": [
    "A, comp_names = rsys.composition_balance_vectors()\n",
    "A, comp_names, list(rsys.substances.keys())"
   ]
  },
  {
   "cell_type": "code",
   "execution_count": null,
   "metadata": {
    "collapsed": false
   },
   "outputs": [],
   "source": [
    "y0 = {k: sympy.Symbol(k+'0') for k in rsys.substances.keys()}\n",
    "analytic_factory = extra['linear_dependencies'](['NL', 'A'])\n",
    "analytic_factory(None, y0, None, sympy), list(enumerate(odesys.names))"
   ]
  },
  {
   "cell_type": "code",
   "execution_count": null,
   "metadata": {
    "collapsed": false
   },
   "outputs": [],
   "source": [
    "from pyodesys.symbolic import PartiallySolvedSystem\n",
    "partsys = PartiallySolvedSystem(odesys, analytic_factory)"
   ]
  },
  {
   "cell_type": "code",
   "execution_count": null,
   "metadata": {
    "collapsed": false
   },
   "outputs": [],
   "source": [
    "%debug"
   ]
  },
  {
   "cell_type": "code",
   "execution_count": null,
   "metadata": {
    "collapsed": false,
    "scrolled": true
   },
   "outputs": [],
   "source": [
    "info_part = integrate_and_plot(partsys, first_step=0.0)"
   ]
  },
  {
   "cell_type": "code",
   "execution_count": null,
   "metadata": {
    "collapsed": true
   },
   "outputs": [],
   "source": []
  }
 ],
 "metadata": {
  "kernelspec": {
   "display_name": "Python 3",
   "language": "python",
   "name": "python3"
  },
  "language_info": {
   "codemirror_mode": {
    "name": "ipython",
    "version": 3
   },
   "file_extension": ".py",
   "mimetype": "text/x-python",
   "name": "python",
   "nbconvert_exporter": "python",
   "pygments_lexer": "ipython3",
   "version": "3.5.2"
  }
 },
 "nbformat": 4,
 "nbformat_minor": 1
}
