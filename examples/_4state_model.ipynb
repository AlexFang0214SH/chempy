{
 "cells": [
  {
   "cell_type": "code",
   "execution_count": 1,
   "metadata": {
    "collapsed": true
   },
   "outputs": [],
   "source": [
    "from collections import OrderedDict\n",
    "from chempy import Substance, Equilibrium, Reaction, ReactionSystem\n",
    "from chempy.kinetics.rates import EyringMassAction\n",
    "from chempy.thermodynamics.expressions import GibbsEqConst"
   ]
  },
  {
   "cell_type": "code",
   "execution_count": 24,
   "metadata": {
    "collapsed": true
   },
   "outputs": [],
   "source": [
    "substances = OrderedDict([\n",
    "    ('N', Substance('N', composition={'protein': 1})),\n",
    "    ('U', Substance('U', composition={'protein': 1})),\n",
    "    ('A', Substance('A', composition={'protein': 1})),\n",
    "    ('L', Substance('L', composition={'ligand': 1})),\n",
    "    ('NL', Substance('NL', composition={'protein': 1, 'ligand': 1})),\n",
    "])"
   ]
  },
  {
   "cell_type": "code",
   "execution_count": null,
   "metadata": {
    "collapsed": true
   },
   "outputs": [],
   "source": [
    "R = 8.3145\n",
    "def gibbs(*args, Tref=298.15):\n",
    "    return GibbsEqConst(H/R, S/R, Cp/R, Tref)\n",
    "\n",
    "def eyring(H, S):\n",
    "    return "
   ]
  },
  {
   "cell_type": "code",
   "execution_count": 25,
   "metadata": {
    "collapsed": true
   },
   "outputs": [],
   "source": [
    "Tref = 0\n",
    "thermo_dis = gibbs('He_dis', 'Se_dis', 'dCp_dis')\n",
    "thermo_u = GibbsEqConst([He_u_R, Se_u_R, Cp_u_R, Tref])\n",
    "kinetics_agg = EyringMassAction([Ha_agg, Sa_agg])\n",
    "kinetics_as = 1\n",
    "kinetics_f =1"
   ]
  },
  {
   "cell_type": "code",
   "execution_count": 26,
   "metadata": {
    "collapsed": true
   },
   "outputs": [],
   "source": [
    "eq_dis = Equilibrium({'NL'}, {'N', 'L'}, thermo_dis, name='ligand-protein dissociation')\n",
    "eq_u = Equilibrium({'N'}, {'U'}, param_u, {'L'}, {'L'}, name='protein unfolding')\n",
    "r_agg = Reaction({'U'}, {'A'}, param_agg, {'L'}, {'L'}, name='protein aggregation')"
   ]
  },
  {
   "cell_type": "code",
   "execution_count": 27,
   "metadata": {
    "collapsed": true
   },
   "outputs": [],
   "source": [
    "rsys = ReactionSystem(eq_dis.as_reactions(kb=kinetics_as) + eq_u.as_reactions(kb=kinetics_f) + (r_agg,), substances, name='4-state CETSA system')"
   ]
  },
  {
   "cell_type": "code",
   "execution_count": 38,
   "metadata": {
    "collapsed": false
   },
   "outputs": [
    {
     "data": {
      "text/plain": [
       "(5, ([[0, 0, 0, 1, 1], [1, 1, 1, 0, 1]], ['ligand', 'protein']))"
      ]
     },
     "execution_count": 38,
     "metadata": {},
     "output_type": "execute_result"
    }
   ],
   "source": [
    "len(rsys.rxns), rsys.composition_balance_vectors()"
   ]
  },
  {
   "cell_type": "code",
   "execution_count": 2,
   "metadata": {
    "collapsed": true
   },
   "outputs": [],
   "source": [
    "\n",
    "param_keys = ('temperature',)"
   ]
  },
  {
   "cell_type": "code",
   "execution_count": null,
   "metadata": {
    "collapsed": true
   },
   "outputs": [],
   "source": []
  }
 ],
 "metadata": {
  "kernelspec": {
   "display_name": "Python 3",
   "language": "python",
   "name": "python3"
  },
  "language_info": {
   "codemirror_mode": {
    "name": "ipython",
    "version": 3
   },
   "file_extension": ".py",
   "mimetype": "text/x-python",
   "name": "python",
   "nbconvert_exporter": "python",
   "pygments_lexer": "ipython3",
   "version": "3.5.2"
  }
 },
 "nbformat": 4,
 "nbformat_minor": 1
}
