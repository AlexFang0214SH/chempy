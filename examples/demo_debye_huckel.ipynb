{
 "cells": [
  {
   "cell_type": "code",
   "execution_count": null,
   "metadata": {
    "collapsed": false
   },
   "outputs": [],
   "source": [
    "from math import log as ln\n",
    "\n",
    "import numpy as np\n",
    "import matplotlib.pyplot as plt\n",
    "import quantities as pq\n",
    "\n",
    "from chempy.water_density_tanaka_2001 import water_density\n",
    "from chempy.water_permittivity_bradley_pitzer_1979 import water_permittivity\n",
    "from chempy.debye_huckel import A as A_DH, B as B_DH"
   ]
  },
  {
   "cell_type": "code",
   "execution_count": null,
   "metadata": {
    "collapsed": false
   },
   "outputs": [],
   "source": [
    "def DH_A_B(T):\n",
    "    eps_r = water_permittivity(T, 1*pq.bar, units=pq)\n",
    "    rho = water_density(T, units=pq)\n",
    "    b0 = 1*pq.mol/pq.kg\n",
    "    A = A_DH(eps_r, T, rho, b0=b0, constants=pq.constants, units=pq).simplified/ln(10)\n",
    "    B = B_DH(eps_r, T, rho, b0=b0, constants=pq.constants, units=pq).rescale(1/pq.angstrom)\n",
    "    return A, B"
   ]
  },
  {
   "cell_type": "code",
   "execution_count": null,
   "metadata": {
    "collapsed": false
   },
   "outputs": [],
   "source": [
    "T = (np.linspace(0, 40)+273.15)*pq.Kelvin\n",
    "A, B = DH_A_B(T)\n",
    "%matplotlib inline\n",
    "plt.figure(figsize=(18,4))\n",
    "plt.subplot(1, 2, 1)\n",
    "plt.plot(T-273.15*pq.K, A)\n",
    "plt.xlabel(r\"Temperature / $^\\circ C$\")\n",
    "plt.ylabel(\"A\")\n",
    "plt.subplot(1, 2, 2)\n",
    "plt.plot(T-273.15*pq.K, B)\n",
    "plt.xlabel(r\"Temperature / $^\\circ C$\")\n",
    "plt.ylabel(\"B / $\\AA^{-1}$\")"
   ]
  }
 ],
 "metadata": {
  "kernelspec": {
   "display_name": "Python 2",
   "language": "python",
   "name": "python2"
  },
  "language_info": {
   "codemirror_mode": {
    "name": "ipython",
    "version": 2
   },
   "file_extension": ".py",
   "mimetype": "text/x-python",
   "name": "python",
   "nbconvert_exporter": "python",
   "pygments_lexer": "ipython2",
   "version": "2.7.6"
  }
 },
 "nbformat": 4,
 "nbformat_minor": 0
}
