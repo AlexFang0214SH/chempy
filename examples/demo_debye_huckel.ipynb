{
 "cells": [
  {
   "cell_type": "code",
   "execution_count": null,
   "metadata": {
    "collapsed": false
   },
   "outputs": [],
   "source": [
    "from math import log as ln\n",
    "\n",
    "import numpy as np\n",
    "import matplotlib.pyplot as plt\n",
    "import quantities as pq\n",
    "\n",
    "from chempy.properties.water_density_tanaka_2001 import water_density\n",
    "from chempy.properties.water_permittivity_bradley_pitzer_1979 import water_permittivity\n",
    "import chempy.debye_huckel as dh\n",
    "import chempy.symbolic"
   ]
  },
  {
   "cell_type": "code",
   "execution_count": null,
   "metadata": {
    "collapsed": false
   },
   "outputs": [],
   "source": [
    "def DH_A_B(T):\n",
    "    eps_r = water_permittivity(T, 1*pq.bar, units=pq)\n",
    "    rho = water_density(T, units=pq)\n",
    "    b0 = 1*pq.mol/pq.kg\n",
    "    A = dh.A(eps_r, T, rho, b0=b0, constants=pq.constants, units=pq).simplified/ln(10)\n",
    "    B = dh.B(eps_r, T, rho, b0=b0, constants=pq.constants, units=pq).rescale(1/pq.angstrom)\n",
    "    return A, B"
   ]
  },
  {
   "cell_type": "code",
   "execution_count": null,
   "metadata": {
    "collapsed": false
   },
   "outputs": [],
   "source": [
    "T = (np.linspace(0, 40)+273.15)*pq.Kelvin\n",
    "A, B = DH_A_B(T)\n",
    "%matplotlib inline\n",
    "plt.figure(figsize=(18,4))\n",
    "plt.subplot(1, 2, 1)\n",
    "plt.plot(T-273.15*pq.K, A)\n",
    "plt.xlabel(r\"Temperature / $^\\circ C$\")\n",
    "plt.ylabel(\"A\")\n",
    "plt.subplot(1, 2, 2)\n",
    "plt.plot(T-273.15*pq.K, B)\n",
    "plt.xlabel(r\"Temperature / $^\\circ C$\")\n",
    "plt.ylabel(\"B / $\\AA^{-1}$\")"
   ]
  },
  {
   "cell_type": "code",
   "execution_count": null,
   "metadata": {
    "collapsed": false
   },
   "outputs": [],
   "source": [
    "import sympy as sp\n",
    "sp.init_printing()"
   ]
  },
  {
   "cell_type": "code",
   "execution_count": null,
   "metadata": {
    "collapsed": false
   },
   "outputs": [],
   "source": [
    "constants = chempy.symbolic.get_constant_symbols()\n",
    "constants.Avogadro_constant"
   ]
  },
  {
   "cell_type": "code",
   "execution_count": null,
   "metadata": {
    "collapsed": false
   },
   "outputs": [],
   "source": [
    "var_symbs = A, B, eps_r, T, rho, b0, I, z, a, I0, C, gamma = sp.symbols('A B epsilon_r T rho b^o I z a I^o C gamma')\n",
    "one = sp.S(1)\n",
    "var_symbs"
   ]
  },
  {
   "cell_type": "code",
   "execution_count": null,
   "metadata": {
    "collapsed": false
   },
   "outputs": [],
   "source": [
    "A_expr = dh.A(eps_r, T, rho, b0, constants, one=one)\n",
    "sp.Eq(A, A_expr)"
   ]
  },
  {
   "cell_type": "code",
   "execution_count": null,
   "metadata": {
    "collapsed": false
   },
   "outputs": [],
   "source": [
    "B_expr = dh.B(eps_r, T, rho, b0, constants, one=sp.S(1))\n",
    "sp.Eq(B, B_expr)"
   ]
  },
  {
   "cell_type": "code",
   "execution_count": null,
   "metadata": {
    "collapsed": false
   },
   "outputs": [],
   "source": [
    "sp.Eq(sp.log(gamma), dh.limiting_log_gamma(I, z, A, I0=I0, one=one))"
   ]
  },
  {
   "cell_type": "code",
   "execution_count": null,
   "metadata": {
    "collapsed": false
   },
   "outputs": [],
   "source": [
    "sp.Eq(sp.log(gamma), dh.extended_log_gamma(I, z, a, A, B, C=C, I0=I0, one=one))"
   ]
  }
 ],
 "metadata": {
  "kernelspec": {
   "display_name": "Python 2",
   "language": "python",
   "name": "python2"
  },
  "language_info": {
   "codemirror_mode": {
    "name": "ipython",
    "version": 2
   },
   "file_extension": ".py",
   "mimetype": "text/x-python",
   "name": "python",
   "nbconvert_exporter": "python",
   "pygments_lexer": "ipython2",
   "version": "2.7.6"
  }
 },
 "nbformat": 4,
 "nbformat_minor": 0
}
