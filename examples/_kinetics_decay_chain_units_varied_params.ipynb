{
 "cells": [
  {
   "cell_type": "code",
   "execution_count": null,
   "metadata": {
    "collapsed": true
   },
   "outputs": [],
   "source": [
    "from collections import defaultdict\n",
    "from itertools import chain\n",
    "import numpy as np\n",
    "import sympy as sp\n",
    "import matplotlib.pyplot as plt\n",
    "from chempy import Substance, Reaction, ReactionSystem\n",
    "from chempy.kinetics.rates import Arrhenius, MassAction\n",
    "from chempy.kinetics.ode import get_odesys\n",
    "from chempy.units import SI_base_registry, default_units as u\n",
    "sp.init_printing()\n",
    "%matplotlib inline"
   ]
  },
  {
   "cell_type": "code",
   "execution_count": null,
   "metadata": {
    "collapsed": false
   },
   "outputs": [],
   "source": [
    "A, B, C = map(Substance, 'ABC')\n",
    "r1 = Reaction({'A'}, {'B'}, MassAction(Arrhenius(unique_keys=('A1', 'Ea_R_1'))))\n",
    "r2 = Reaction({'B'}, {'C'}, MassAction(Arrhenius(unique_keys=('A2', 'Ea_R_2'))))\n",
    "rsys = ReactionSystem([r1, r2])\n",
    "rsys"
   ]
  },
  {
   "cell_type": "code",
   "execution_count": null,
   "metadata": {
    "collapsed": false
   },
   "outputs": [],
   "source": [
    "# TODO: dedimensionalisation drops quantity\n",
    "params = {'A1': 1e11/u.s, 'A2': 2e11/u.s, 'Ea_R_1': 8e3*u.K, 'Ea_R_2': 8.5e3*u.K, 'temperature': 300*u.K}\n",
    "c0 = defaultdict(lambda: 0*u.molar, {'A': 1*u.molar})\n",
    "variables = c0.copy()\n",
    "variables.update(params)\n",
    "rsys.rates(variables)"
   ]
  },
  {
   "cell_type": "code",
   "execution_count": null,
   "metadata": {
    "collapsed": false
   },
   "outputs": [],
   "source": [
    "odesys, extra = get_odesys(rsys, include_params=False, lower_bounds=0)\n",
    "print(dict(zip(odesys.dep, odesys.names)))\n",
    "print(dict(zip(odesys.params, odesys.param_names)))\n",
    "odesys.exprs"
   ]
  },
  {
   "cell_type": "code",
   "execution_count": null,
   "metadata": {
    "collapsed": false
   },
   "outputs": [],
   "source": [
    "res = odesys.integrate(7*u.s, c0, params, integrator='cvode')\n",
    "res.plot()"
   ]
  },
  {
   "cell_type": "code",
   "execution_count": null,
   "metadata": {
    "collapsed": false
   },
   "outputs": [],
   "source": [
    "params2 = params.copy()\n",
    "params2['Ea_R_2'] = [8.1e3, 8.2e3, 8.3e3]*u.K\n",
    "res2 = odesys.integrate(7*u.s, c0, params2, integrator='cvode')\n",
    "fig, axes = plt.subplots(1, len(res2), figsize=(14, 4))\n",
    "for r, ax in zip(res2, axes):\n",
    "    r.plot(ax=ax)"
   ]
  },
  {
   "cell_type": "code",
   "execution_count": null,
   "metadata": {
    "collapsed": true
   },
   "outputs": [],
   "source": []
  },
  {
   "cell_type": "code",
   "execution_count": null,
   "metadata": {
    "collapsed": true
   },
   "outputs": [],
   "source": []
  }
 ],
 "metadata": {
  "kernelspec": {
   "display_name": "Python 3",
   "language": "python",
   "name": "python3"
  },
  "language_info": {
   "codemirror_mode": {
    "name": "ipython",
    "version": 3
   },
   "file_extension": ".py",
   "mimetype": "text/x-python",
   "name": "python",
   "nbconvert_exporter": "python",
   "pygments_lexer": "ipython3",
   "version": "3.5.2"
  }
 },
 "nbformat": 4,
 "nbformat_minor": 1
}
