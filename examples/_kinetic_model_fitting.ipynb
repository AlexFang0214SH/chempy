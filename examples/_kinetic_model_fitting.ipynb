{
 "cells": [
  {
   "cell_type": "markdown",
   "metadata": {},
   "source": [
    "# Fitting kinetic parameters to experimental data\n",
    "Author: Björn Dahlgren.\n",
    "\n",
    "Let us consider the reaction:\n",
    "\n",
    "$$\n",
    "Fe^{3+} + SCN^- \\rightarrow FeSCN^{2+}\n",
    "$$\n",
    "\n",
    "the product is strongly coloured and we have experimental data of the absorbance as function of time after mixing for several replicates. The experiment was performed at 7 different temperatures and for one temperature, 7 different ionic strengths. For each set of conditions the experiment was re-run 7 times (replicates). In this notebook, we will determine the activation enthalpy and entropy through regressions analysis, we will also look at the ionic strength dependence."
   ]
  },
  {
   "cell_type": "code",
   "execution_count": null,
   "metadata": {
    "collapsed": false
   },
   "outputs": [],
   "source": [
    "import numpy as np\n",
    "import chempy\n",
    "import chempy.equilibria\n",
    "from chempy.units import default_units as u\n",
    "from chempy.electrolytes import ionic_strength\n",
    "from chempy._solution import QuantityDict\n",
    "from chempy.printing import as_per_substance_html_table\n",
    "print(chempy.__version__)"
   ]
  },
  {
   "cell_type": "markdown",
   "metadata": {},
   "source": [
    "Experimental conditions, the two solutions which were mixed in 1:1 volume ration in a stopped flow apparatus:"
   ]
  },
  {
   "cell_type": "code",
   "execution_count": null,
   "metadata": {
    "collapsed": false
   },
   "outputs": [],
   "source": [
    "sol1 = QuantityDict(u.mM, {'SCN-': 3*u.mM, 'K+': 3*u.mM, 'Na+': 33*u.mM, 'H+': 50*u.mM, 'ClO4-': (33+50)*u.mM})\n",
    "sol2 = QuantityDict(u.mM, {'Fe+3': 6*u.mM, 'H+': 50*u.mM, 'ClO4-': (3*6+50)*u.mM})"
   ]
  },
  {
   "cell_type": "code",
   "execution_count": null,
   "metadata": {
    "collapsed": false
   },
   "outputs": [],
   "source": [
    "sol = (sol1 + sol2)/2  # 1:1 volume ratio at mixing\n",
    "sol.quantity_name = 'concentration'\n",
    "sol"
   ]
  },
  {
   "cell_type": "code",
   "execution_count": null,
   "metadata": {
    "collapsed": false
   },
   "outputs": [],
   "source": [
    "eqsys = chempy.equilibria.EqSystem.from_string('Fe+3 + SCN- = FeSCN+2')\n",
    "eqsys"
   ]
  }
 ],
 "metadata": {
  "kernelspec": {
   "display_name": "Python 3",
   "language": "python",
   "name": "python3"
  },
  "language_info": {
   "codemirror_mode": {
    "name": "ipython",
    "version": 3
   },
   "file_extension": ".py",
   "mimetype": "text/x-python",
   "name": "python",
   "nbconvert_exporter": "python",
   "pygments_lexer": "ipython3",
   "version": "3.4.3"
  }
 },
 "nbformat": 4,
 "nbformat_minor": 0
}
