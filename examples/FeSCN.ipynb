{
 "cells": [
  {
   "cell_type": "markdown",
   "metadata": {},
   "source": [
    "Never mind this for now, there is an error somewhere."
   ]
  },
  {
   "cell_type": "code",
   "execution_count": null,
   "metadata": {
    "collapsed": false
   },
   "outputs": [],
   "source": [
    "from __future__ import print_function\n",
    "from collections import defaultdict\n",
    "import numpy as np\n",
    "import periodictable\n",
    "import matplotlib.pyplot as plt\n",
    "%matplotlib inline\n",
    "import chempy\n",
    "from chempy.chemistry import Solute, Equilibrium\n",
    "from chempy.equilibria import EqSystem\n",
    "print('ChemPy: %s' % chempy.__version__)"
   ]
  },
  {
   "cell_type": "code",
   "execution_count": null,
   "metadata": {
    "collapsed": false
   },
   "outputs": [],
   "source": [
    "substances = [\n",
    "    Solute(n, latex_name=l, composition=c) for n, l, c in [\n",
    "        ('H/+', 'H^+', {0: 1, 1: 1}),\n",
    "        ('OH/-', 'OH^-', {0: -1, 1: 1, 8: 1}),\n",
    "        ('HSCN', 'HSCN', {1: 1, 6: 1, 7: 1, 16: 1}),\n",
    "        ('SCN/-', 'SCN^-', {0: -1, 6: 1, 7: 1, 16: 1}),\n",
    "        ('H2O', 'H_2O', {1: 2, 8: 1}),\n",
    "        ('Fe/3+', 'Fe^{3+}', {0: 3, 26: 1}),\n",
    "        ('FeSCN/2+', 'FeSCN^{2+}', {0: 2, 6: 1, 7: 1, 16: 1, 26: 1}),\n",
    "        ('FeSCN2/+', 'Fe(SCN)_2^{+}', {0: 1, 6: 2, 7: 2, 16: 2, 26: 1}), \n",
    "        ('FeSCN3', 'Fe(SCN)_3', {6: 3, 7: 3, 16: 3, 26: 1}),\n",
    "        ('Fe2OH2/4+', 'Fe_2(OH)_2^{4+}', {0: 4, 1: 2, 8: 2, 26: 2}),\n",
    "        ('FeOH/2+', 'Fe(OH)^{2+}', {0: 2, 1: 1, 8: 1, 26: 1})]]"
   ]
  },
  {
   "cell_type": "code",
   "execution_count": null,
   "metadata": {
    "collapsed": false
   },
   "outputs": [],
   "source": [
    "init_conc = defaultdict(lambda: 1e-50, {'H/+': 1e-7, 'OH/-': 1e-7, 'HSCN': 1e-3, 'Fe/3+': 1e-3, 'H2O': 55.4})"
   ]
  },
  {
   "cell_type": "code",
   "execution_count": null,
   "metadata": {
    "collapsed": false
   },
   "outputs": [],
   "source": [
    "H2O_c = init_conc['H2O']\n",
    "w_autop = Equilibrium({'H2O': 1}, {'H/+': 1, 'OH/-': 1}, 10**-14/H2O_c)\n",
    "HSCN_pr = Equilibrium({'HSCN': 1}, {'H/+': 1, 'SCN/-': 1}, 10**1.28, ref='doi:10.1139/v00-152')\n",
    "FeOH = Equilibrium({'Fe/3+': 1, 'H2O': 1}, {'FeOH/2+': 1, 'H/+': 1}, 10**-2.81 / H2O_c, ref='doi:10.1039/B001811M')\n",
    "Fe2OH2 = Equilibrium({'Fe/3+': 2, 'H2O': 2}, {'Fe2OH2/4+': 1, 'H/+': 2}, 10**-2.81 / H2O_c**2, ref='doi:10.1039/B001811M')\n",
    "FeSCN_B1 = Equilibrium({'FeSCN/2+': 1}, {'Fe/3+': 1, 'SCN/-': 1}, 10**-2.065, ref='doi:10.1039/B001811M')\n",
    "FeSCN_B2 = Equilibrium({'FeSCN2/+': 1}, {'FeSCN/2+': 1, 'SCN/-': 1}, 10**-3.34, ref='doi:10.1351/pac199769071489')\n",
    "FeSCN_B3 = Equilibrium({'FeSCN3': 1}, {'FeSCN2/+': 1, 'SCN/-': 1}, 10**-3.82, ref='doi:10.1351/pac199769071489')\n",
    "equilibria = w_autop, HSCN_pr, FeOH, Fe2OH2, FeSCN_B1, FeSCN_B2, FeSCN_B3"
   ]
  },
  {
   "cell_type": "code",
   "execution_count": null,
   "metadata": {
    "collapsed": false
   },
   "outputs": [],
   "source": [
    "eqsys = chempy.equilibria.EqSystem(equilibria, substances)"
   ]
  },
  {
   "cell_type": "code",
   "execution_count": null,
   "metadata": {
    "collapsed": false
   },
   "outputs": [],
   "source": [
    "from chempy.util.table import rsys2pdf_table\n",
    "rsys2pdf_table(eqsys, save='equilibria.pdf', siunitx=True, param_name='Equilibrium constant')\n",
    "from IPython.display import HTML\n",
    "HTML('<iframe src=./equilibria.pdf width=700 height=350></iframe>')"
   ]
  },
  {
   "cell_type": "code",
   "execution_count": null,
   "metadata": {
    "collapsed": false,
    "scrolled": true
   },
   "outputs": [],
   "source": [
    "HSCN_varied = np.logspace(-6, -2)\n",
    "xout, info, sanity = eqsys.roots(init_conc, HSCN_varied, 'HSCN', plot_kwargs={'latex_names': True})\n",
    "plt.gca().set_xscale('log')\n",
    "plt.gca().set_yscale('log')\n",
    "plt.gca().set_ylim([1e-4, 1e-2])"
   ]
  }
 ],
 "metadata": {
  "kernelspec": {
   "display_name": "Python 2",
   "language": "python",
   "name": "python2"
  },
  "language_info": {
   "codemirror_mode": {
    "name": "ipython",
    "version": 2
   },
   "file_extension": ".py",
   "mimetype": "text/x-python",
   "name": "python",
   "nbconvert_exporter": "python",
   "pygments_lexer": "ipython2",
   "version": "2.7.6"
  }
 },
 "nbformat": 4,
 "nbformat_minor": 0
}
