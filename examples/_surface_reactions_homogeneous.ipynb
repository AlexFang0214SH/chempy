{
 "cells": [
  {
   "cell_type": "markdown",
   "metadata": {},
   "source": [
    "This notebook shows how to treat surface reactions in reacting systems where diffusion is a much faster process in comparison to the chemical reactions (surface is treated as a \"homogenized\" concentration)."
   ]
  },
  {
   "cell_type": "code",
   "execution_count": null,
   "metadata": {},
   "outputs": [],
   "source": [
    "from collections import defaultdict\n",
    "from chempy import ReactionSystem, Species, Reaction\n",
    "from chempy.units import SI_base_registry, default_units as u\n",
    "from chempy.kinetics.ode import (\n",
    "    _create_odesys as create_odesys,\n",
    ")"
   ]
  },
  {
   "cell_type": "code",
   "execution_count": null,
   "metadata": {},
   "outputs": [],
   "source": [
    "ads_token = '(ads)'\n",
    "phases = {'(aq)': 0, ads_token: 1}\n",
    "ads_comp = -1\n",
    "vacancy = Species('vacancy(ads)', composition={ads_comp: 1},\n",
    "                  phase_idx=phases[ads_token])\n",
    "\n",
    "def substance_factory(name):\n",
    "    if name == vacancy.name:\n",
    "        return vacancy\n",
    "    s = Species.from_formula(name, phases=phases)\n",
    "    if name.endswith(ads_token):\n",
    "        s.composition[ads_comp] = 1\n",
    "    return s\n",
    "\n",
    "rsys = ReactionSystem.from_string(\"\"\"\n",
    "vacancy(ads) + H2O2 -> H2O2(ads); 'k_ads_H2O2'\n",
    "H2O2(ads) + vacancy(ads) -> 2 OH(ads); 'k_split_H2O2ads'\n",
    "OH(ads) + H2O2 -> H2O + HO2 + vacancy(ads); 'k_abst_OHads_H2O2'\n",
    "HO2 + HO2 -> O2 + H2O2; 'k_disprop_HO2'\n",
    "\"\"\", substance_factory=substance_factory)\n",
    "rsys"
   ]
  },
  {
   "cell_type": "code",
   "execution_count": null,
   "metadata": {},
   "outputs": [],
   "source": [
    "odesys, extra = create_odesys(rsys, unit_registry=SI_base_registry)"
   ]
  },
  {
   "cell_type": "code",
   "execution_count": null,
   "metadata": {},
   "outputs": [],
   "source": [
    "result, _ = extra['unit_aware_solve'](\n",
    "    42*u.s, defaultdict(lambda: 0*u.M, H2O2=1*u.molar),\n",
    "    dict(\n",
    "        k_ads_H2O2=.1/u.M/u.s,\n",
    "        k_split_H2O2ads=.2/u.M/u.s,\n",
    "        k_abst_OHads_H2O2=.3/u.M/u.s,\n",
    "        k_disprop_HO2=.4/u.M/u.s\n",
    "    )\n",
    ")"
   ]
  },
  {
   "cell_type": "code",
   "execution_count": null,
   "metadata": {},
   "outputs": [],
   "source": []
  }
 ],
 "metadata": {
  "kernelspec": {
   "display_name": "Python 3",
   "language": "python",
   "name": "python3"
  }
 },
 "nbformat": 4,
 "nbformat_minor": 2
}
