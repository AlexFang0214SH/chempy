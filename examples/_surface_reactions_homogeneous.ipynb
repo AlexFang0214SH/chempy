{
 "cells": [
  {
   "cell_type": "markdown",
   "metadata": {},
   "source": [
    "This notebook shows how to treat surface reactions in reacting systems where diffusion is a much faster process in comparison to the chemical reactions (surface is treated as a \"homogenized\" concentration)."
   ]
  },
  {
   "cell_type": "code",
   "execution_count": null,
   "metadata": {},
   "outputs": [],
   "source": [
    "from chempy import ReactionSystem, Species, Reaction"
   ]
  },
  {
   "cell_type": "code",
   "execution_count": null,
   "metadata": {},
   "outputs": [],
   "source": [
    "class PhaseAwareReaction(Reaction):\n",
    "    def order(self):\n",
    "        return {3: , 2: }\n",
    "    \n",
    "    def check_consistent_units(self):\n",
    "        pass\n",
    "    \n",
    "    def from_formula(self, formula):\n",
    "        if name == vacancy.name:\n",
    "            return vacancy\n",
    "        s = Species.from_formula(name, phases=phases)\n",
    "        if name.endswith(ads_token):\n",
    "            s.composition[ads_comp] = 1\n",
    "        return s\n",
    "    \n",
    "class PhaseAwareReactionSystem(ReactionSystem):\n",
    "    _BaseReaction = PhaseAwareReaction\n"
   ]
  },
  {
   "cell_type": "code",
   "execution_count": null,
   "metadata": {},
   "outputs": [],
   "source": [
    "ads_token = '(ads)'\n",
    "phases = {'(aq)': 0, ads_token: 1}\n",
    "ads_comp = -1\n",
    "vacancy = Species('vacancy(ads)', composition={ads_comp: 1},\n",
    "                  phase_idx=phases[ads_token])\n",
    "\n",
    "def substance_factory(name):\n",
    "    if name == vacancy.name:\n",
    "        return vacancy\n",
    "    s = Species.from_formula(name, phases=phases)\n",
    "    if name.endswith(ads_token):\n",
    "        s.composition[ads_comp] = 1\n",
    "    return s\n",
    "\n",
    "rsys = ReactionSystem.from_string(\"\"\"\n",
    "vacancy(ads) + H2O2 -> H2O2(ads)\n",
    "H2O2(ads) + vacancy(ads) -> 2 OH(ads)\n",
    "OH(ads) + H2O2 -> H2O + HO2 + vacancy(ads)\n",
    "HO2 + HO2 -> O2 + H2O2\n",
    "\"\"\", substance_factory=substance_factory)"
   ]
  },
  {
   "cell_type": "code",
   "execution_count": null,
   "metadata": {},
   "outputs": [],
   "source": [
    "rsys"
   ]
  },
  {
   "cell_type": "code",
   "execution_count": null,
   "metadata": {},
   "outputs": [],
   "source": [
    "rsys.rxns[0].order"
   ]
  },
  {
   "cell_type": "code",
   "execution_count": null,
   "metadata": {},
   "outputs": [],
   "source": []
  }
 ],
 "metadata": {
  "kernelspec": {
   "display_name": "Python 3",
   "language": "python",
   "name": "python3"
  }
 },
 "nbformat": 4,
 "nbformat_minor": 2
}
