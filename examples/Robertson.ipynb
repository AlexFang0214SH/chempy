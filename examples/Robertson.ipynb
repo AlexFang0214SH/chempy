{
 "cells": [
  {
   "cell_type": "code",
   "execution_count": null,
   "metadata": {
    "collapsed": false
   },
   "outputs": [],
   "source": [
    "from __future__ import absolute_import, division, print_function\n",
    "from collections import defaultdict\n",
    "import matplotlib.pyplot as plt\n",
    "from chempy.chemistry import Reaction, Substance, ReactionSystem\n",
    "from chempy.kinetics.ode import get_odesys\n",
    "from chempy.util.graph import rsys2graph\n",
    "import sympy\n",
    "sympy.init_printing()\n",
    "%matplotlib inline"
   ]
  },
  {
   "cell_type": "code",
   "execution_count": null,
   "metadata": {
    "collapsed": false
   },
   "outputs": [],
   "source": [
    "A, B, C = map(Substance, 'ABC')\n",
    "One = sympy.S.One\n",
    "reactions = r0, r1, r2 = [\n",
    "    Reaction({'A': 1}, {'B': 1}, 4*One/100, name='A cons.'),\n",
    "    Reaction({'B': 1, 'C':1}, {'A': 1, 'C': 1}, 10**(4*One), name='A reform.'),\n",
    "    Reaction({'B': 2}, {'B': 1, 'C': 1}, 3*10**(7*One), name='C form.')\n",
    "]\n",
    "rsys = ReactionSystem(reactions, (A, B, C))\n",
    "rsys"
   ]
  },
  {
   "cell_type": "code",
   "execution_count": null,
   "metadata": {
    "collapsed": false
   },
   "outputs": [],
   "source": [
    "rsys2graph(rsys, 'robertson.png', save='.')\n",
    "from IPython.display import Image; Image('robertson.png')"
   ]
  },
  {
   "cell_type": "code",
   "execution_count": null,
   "metadata": {
    "collapsed": false
   },
   "outputs": [],
   "source": [
    "odesys = get_odesys(rsys, include_params=True)\n",
    "odesys.exprs"
   ]
  },
  {
   "cell_type": "code",
   "execution_count": null,
   "metadata": {
    "collapsed": false
   },
   "outputs": [],
   "source": [
    "odesys.get_jac()"
   ]
  },
  {
   "cell_type": "code",
   "execution_count": null,
   "metadata": {
    "collapsed": false
   },
   "outputs": [],
   "source": [
    "c0 = defaultdict(float, {'A': 1})\n",
    "odesys.integrate(1e10, c0, integrator='cvode')\n",
    "odesys.plot_result()\n",
    "plt.gca().set_xscale('log'); plt.gca().set_yscale('log'); _ = plt.legend(loc='best')"
   ]
  }
 ],
 "metadata": {
  "kernelspec": {
   "display_name": "Python 3",
   "language": "python",
   "name": "python3"
  },
  "language_info": {
   "codemirror_mode": {
    "name": "ipython",
    "version": 3
   },
   "file_extension": ".py",
   "mimetype": "text/x-python",
   "name": "python",
   "nbconvert_exporter": "python",
   "pygments_lexer": "ipython3",
   "version": "3.4.3"
  }
 },
 "nbformat": 4,
 "nbformat_minor": 0
}
