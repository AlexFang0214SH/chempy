{
 "cells": [
  {
   "cell_type": "code",
   "execution_count": null,
   "metadata": {
    "collapsed": false
   },
   "outputs": [],
   "source": [
    "from __future__ import absolute_import, division, print_function\n",
    "import matplotlib.pyplot as plt\n",
    "from chempy.chemistry import Reaction, Substance, ReactionSystem\n",
    "from chempy.kinetics.ode import get_odesys\n",
    "from chempy.util.graph import rsys2graph\n",
    "import sympy\n",
    "sympy.init_printing()\n",
    "%matplotlib inline"
   ]
  },
  {
   "cell_type": "code",
   "execution_count": null,
   "metadata": {
    "collapsed": false
   },
   "outputs": [],
   "source": [
    "substances = A, B, C = map(Substance, 'ABC')\n",
    "reactions = r0, r1, r2 = [\n",
    "    Reaction({'A': 1}, {'B': 1}, .04),\n",
    "    Reaction({'B': 1, 'C':1}, {'A': 1, 'C': 1}, 1e4),\n",
    "    Reaction({'B': 2}, {'B': 1, 'C': 1}, 3e7)\n",
    "]\n",
    "rsys = ReactionSystem(reactions, substances)"
   ]
  },
  {
   "cell_type": "code",
   "execution_count": null,
   "metadata": {
    "collapsed": false
   },
   "outputs": [],
   "source": [
    "rsys2graph(rsys, 'robertson.png', save='.')\n",
    "from IPython.display import Image\n",
    "Image('robertson.png')"
   ]
  },
  {
   "cell_type": "code",
   "execution_count": null,
   "metadata": {
    "collapsed": false
   },
   "outputs": [],
   "source": [
    "odesys = get_odesys(rsys, include_params=True)\n",
    "odesys.exprs"
   ]
  },
  {
   "cell_type": "code",
   "execution_count": null,
   "metadata": {
    "collapsed": false
   },
   "outputs": [],
   "source": [
    "odesys.get_jac()"
   ]
  },
  {
   "cell_type": "code",
   "execution_count": null,
   "metadata": {
    "collapsed": false
   },
   "outputs": [],
   "source": [
    "xout, yout, info = odesys.integrate(1e4, [1, 0, 0], integrator='cvode', first_step=1e-14)  # odeint may be better\n",
    "for idx, lbl in enumerate('ABC'):\n",
    "    plt.loglog(xout, yout[:, idx], label=lbl)\n",
    "lgnd = plt.legend(loc='best')"
   ]
  }
 ],
 "metadata": {
  "kernelspec": {
   "display_name": "Python 2",
   "language": "python",
   "name": "python2"
  },
  "language_info": {
   "codemirror_mode": {
    "name": "ipython",
    "version": 2
   },
   "file_extension": ".py",
   "mimetype": "text/x-python",
   "name": "python",
   "nbconvert_exporter": "python",
   "pygments_lexer": "ipython2",
   "version": "2.7.6"
  }
 },
 "nbformat": 4,
 "nbformat_minor": 0
}
