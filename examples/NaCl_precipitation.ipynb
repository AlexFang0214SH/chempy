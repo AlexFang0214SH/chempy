{
 "cells": [
  {
   "cell_type": "code",
   "execution_count": 1,
   "metadata": {
    "collapsed": true
   },
   "outputs": [],
   "source": [
    "from chempy.chemistry import Solute, Equilibrium\n",
    "from chempy.equilibria import EqSystem"
   ]
  },
  {
   "cell_type": "code",
   "execution_count": 2,
   "metadata": {
    "collapsed": true
   },
   "outputs": [],
   "source": [
    "Na_p = Solute('Na+', 1, composition={11: 1})\n",
    "Cl_m = Solute('Cl-', -1, composition={17: 1})\n",
    "NaCl = Solute('NaCl', solid=True, composition={11: 1, 17: 1})\n",
    "eq = Equilibrium({'NaCl': 1}, {'Na+': 1, 'Cl-': 1}, 4.0)\n",
    "eqsys = EqSystem([eq], [Na_p, Cl_m, NaCl])"
   ]
  },
  {
   "cell_type": "code",
   "execution_count": null,
   "metadata": {
    "collapsed": false
   },
   "outputs": [],
   "source": []
  },
  {
   "cell_type": "code",
   "execution_count": null,
   "metadata": {
    "collapsed": false
   },
   "outputs": [],
   "source": []
  },
  {
   "cell_type": "code",
   "execution_count": 3,
   "metadata": {
    "collapsed": false
   },
   "outputs": [
    {
     "data": {
      "text/plain": [
       "(array([ 2.,  2.,  3.]),\n",
       " {'conditions': (True,),\n",
       "  'fun': array([ 0.,  0.,  0.,  0.]),\n",
       "  'nfev': 7,\n",
       "  'njev': 6,\n",
       "  'success': True,\n",
       "  'x': array([ 2.,  2.,  3.])},\n",
       " True)"
      ]
     },
     "execution_count": 3,
     "metadata": {},
     "output_type": "execute_result"
    }
   ],
   "source": [
    "eqsys.root({'Na+': 5, 'Cl-': 5, 'NaCl': 0})"
   ]
  },
  {
   "cell_type": "code",
   "execution_count": 4,
   "metadata": {
    "collapsed": false
   },
   "outputs": [
    {
     "data": {
      "text/plain": [
       "(array([ 1.,  1.,  0.]),\n",
       " {'conditions': (False,),\n",
       "  'fun': array([ 0.,  0.,  0.,  0.]),\n",
       "  'nfev': 1,\n",
       "  'njev': 1,\n",
       "  'success': True,\n",
       "  'x': array([ 1.,  1.,  0.])},\n",
       " True)"
      ]
     },
     "execution_count": 4,
     "metadata": {},
     "output_type": "execute_result"
    }
   ],
   "source": [
    "eqsys.root({'Na+': 1, 'Cl-': 1, 'NaCl': 0})"
   ]
  },
  {
   "cell_type": "code",
   "execution_count": 5,
   "metadata": {
    "collapsed": false
   },
   "outputs": [
    {
     "data": {
      "text/plain": [
       "(array([ 2.,  2.,  0.]),\n",
       " {'conditions': (False,),\n",
       "  'fun': array([ 0.,  0.,  0.,  0.]),\n",
       "  'nfev': 1,\n",
       "  'njev': 1,\n",
       "  'success': True,\n",
       "  'x': array([ 2.,  2.,  0.])},\n",
       " True)"
      ]
     },
     "execution_count": 5,
     "metadata": {},
     "output_type": "execute_result"
    }
   ],
   "source": [
    "eqsys.root({'Na+': 2, 'Cl-': 2, 'NaCl': 0})"
   ]
  },
  {
   "cell_type": "code",
   "execution_count": 6,
   "metadata": {
    "collapsed": false
   },
   "outputs": [
    {
     "data": {
      "text/plain": [
       "(array([  2.00000000e+00,   2.00000000e+00,   3.45126646e-31]),\n",
       " {'conditions': (False,),\n",
       "  'fun': array([  0.00000000e+00,   0.00000000e+00,   0.00000000e+00,\n",
       "           3.45126646e-31]),\n",
       "  'nfev': 3,\n",
       "  'njev': 2,\n",
       "  'success': True,\n",
       "  'x': array([  2.00000000e+00,   2.00000000e+00,   3.45126646e-31])},\n",
       " True)"
      ]
     },
     "execution_count": 6,
     "metadata": {},
     "output_type": "execute_result"
    }
   ],
   "source": [
    "eqsys.root({'Na+': 0, 'Cl-': 0, 'NaCl': 2})"
   ]
  },
  {
   "cell_type": "code",
   "execution_count": null,
   "metadata": {
    "collapsed": true
   },
   "outputs": [],
   "source": []
  },
  {
   "cell_type": "code",
   "execution_count": 7,
   "metadata": {
    "collapsed": false
   },
   "outputs": [
    {
     "data": {
      "text/plain": [
       "(array([ 0.,  0.,  5.]),\n",
       " {'conditions': (True,),\n",
       "  'fun': array([ 0.,  0.,  0., -1.]),\n",
       "  'nfev': 1,\n",
       "  'njev': 1,\n",
       "  'success': True,\n",
       "  'x': array([ 0.,  0.,  5.])},\n",
       " True)"
      ]
     },
     "execution_count": 7,
     "metadata": {},
     "output_type": "execute_result"
    }
   ],
   "source": [
    "eqsys.root({'Na+': 0, 'Cl-': 0, 'NaCl': 5.0})"
   ]
  },
  {
   "cell_type": "code",
   "execution_count": 8,
   "metadata": {
    "collapsed": false
   },
   "outputs": [],
   "source": [
    "#neqsys = eqsys.get_neqsys({'Na+': 0, 'Cl-': 0, 'NaCl': 5.0}, rref_preserv=True)"
   ]
  },
  {
   "cell_type": "code",
   "execution_count": 9,
   "metadata": {
    "collapsed": false,
    "scrolled": true
   },
   "outputs": [
    {
     "name": "stderr",
     "output_type": "stream",
     "text": [
      "/home/bjorn/vc/chempy/chempy/equilibria.py:401: UserWarning: Negative concentration\n",
      "  warnings.warn(\"Negative concentration\")\n",
      "/home/bjorn/vc/chempy/chempy/equilibria.py:403: UserWarning: Too much of at least one component\n",
      "  warnings.warn(\"Too much of at least one component\")\n"
     ]
    },
    {
     "data": {
      "text/plain": [
       "(array([-2., -2.,  7.]),\n",
       " {'conditions': (True,),\n",
       "  'fun': array([ 0.,  0.,  0.]),\n",
       "  'nfev': 20,\n",
       "  'njev': 2,\n",
       "  'success': True,\n",
       "  'x': array([-2., -2.,  7.])},\n",
       " False)"
      ]
     },
     "execution_count": 9,
     "metadata": {},
     "output_type": "execute_result"
    }
   ],
   "source": [
    "eqsys.root({'Na+': 0, 'Cl-': 0, 'NaCl': 5.0}, rref_preserv=True)"
   ]
  },
  {
   "cell_type": "code",
   "execution_count": 14,
   "metadata": {
    "collapsed": false
   },
   "outputs": [
    {
     "data": {
      "text/plain": [
       "(array([ 0.,  0.,  5.]),\n",
       " {'conditions': (True,),\n",
       "  'fun': array([  8.88178420e-16,   8.88178420e-16,  -1.00000000e+00]),\n",
       "  'nfev': 10,\n",
       "  'njev': 2,\n",
       "  'success': True,\n",
       "  'x': array([ 0.,  0.,  5.])},\n",
       " True)"
      ]
     },
     "execution_count": 14,
     "metadata": {},
     "output_type": "execute_result"
    }
   ],
   "source": [
    "from chempy.equilibria import NumSysSquare\n",
    "eqsys.root({'Na+': 0, 'Cl-': 0, 'NaCl': 5.0}, rref_preserv=True, NumSys=(NumSysSquare,))"
   ]
  },
  {
   "cell_type": "code",
   "execution_count": 15,
   "metadata": {
    "collapsed": false
   },
   "outputs": [
    {
     "data": {
      "text/plain": [
       "(array([ 2.,  2.,  3.]),\n",
       " {'conditions': (True,),\n",
       "  'fun': array([  6.21724894e-14,   6.21724894e-14,   0.00000000e+00]),\n",
       "  'nfev': 27,\n",
       "  'njev': 3,\n",
       "  'success': True,\n",
       "  'x': array([ 2.,  2.,  3.])},\n",
       " True)"
      ]
     },
     "execution_count": 15,
     "metadata": {},
     "output_type": "execute_result"
    }
   ],
   "source": [
    "from chempy.equilibria import NumSysLin\n",
    "eqsys.root({'Na+': 0, 'Cl-': 0, 'NaCl': 5.0}, rref_preserv=True, NumSys=(NumSysLin, NumSysSquare))"
   ]
  },
  {
   "cell_type": "code",
   "execution_count": null,
   "metadata": {
    "collapsed": true
   },
   "outputs": [],
   "source": []
  }
 ],
 "metadata": {
  "kernelspec": {
   "display_name": "Python 3",
   "language": "python",
   "name": "python3"
  },
  "language_info": {
   "codemirror_mode": {
    "name": "ipython",
    "version": 3
   },
   "file_extension": ".py",
   "mimetype": "text/x-python",
   "name": "python",
   "nbconvert_exporter": "python",
   "pygments_lexer": "ipython3",
   "version": "3.4.3"
  }
 },
 "nbformat": 4,
 "nbformat_minor": 0
}
