{
 "cells": [
  {
   "cell_type": "code",
   "execution_count": null,
   "metadata": {
    "collapsed": false
   },
   "outputs": [],
   "source": [
    "from chempy import Species, Equilibrium, EqSystem"
   ]
  },
  {
   "cell_type": "code",
   "execution_count": null,
   "metadata": {
    "collapsed": true
   },
   "outputs": [],
   "source": [
    "species_keys = 'CO2(g) CO2(aq) H2O H2CO3 H+ HCO3- CO3/2- Ca/2+ CaCO3(s)'.split()\n",
    "eq_str = \"\"\"\n",
    "CO2(aq) = CO2(g); chempy.henry.Henry(3.3e-4, 2400)\n",
    "CO2(aq) + H2O = H2CO3; 1.7e-3/55.4\n",
    "H2CO3 = H+ + HCO3-; 10**-3.6\n",
    "HCO3- = H+ + CO3/2-; 10**-10.329\n",
    "CaCO3(s) = Ca/2+ + CO3/2-; 3.3e-9\n",
    "\"\"\"  # eventually: 55.4 <- [H2O]"
   ]
  },
  {
   "cell_type": "code",
   "execution_count": null,
   "metadata": {
    "collapsed": false
   },
   "outputs": [],
   "source": [
    "species = [Species.from_formula(s) for s in species_keys]\n",
    "reactions = [Equilibrium.from_string(s, species_keys) for s in eq_str.split('\\n')[1:-1]]"
   ]
  },
  {
   "cell_type": "code",
   "execution_count": null,
   "metadata": {
    "collapsed": true
   },
   "outputs": [],
   "source": []
  }
 ],
 "metadata": {
  "kernelspec": {
   "display_name": "Python 3",
   "language": "python",
   "name": "python3"
  },
  "language_info": {
   "codemirror_mode": {
    "name": "ipython",
    "version": 3
   },
   "file_extension": ".py",
   "mimetype": "text/x-python",
   "name": "python",
   "nbconvert_exporter": "python",
   "pygments_lexer": "ipython3",
   "version": "3.4.3"
  }
 },
 "nbformat": 4,
 "nbformat_minor": 0
}
